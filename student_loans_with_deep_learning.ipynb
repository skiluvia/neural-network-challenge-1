{
  "cells": [
    {
      "cell_type": "markdown",
      "metadata": {
        "id": "T7ZNhGcW6q6r"
      },
      "source": [
        "# Student Loan Risk with Deep Learning"
      ]
    },
    {
      "cell_type": "code",
      "execution_count": 44,
      "metadata": {
        "id": "0otrXpJc6q6u"
      },
      "outputs": [],
      "source": [
        "# Imports\n",
        "import pandas as pd\n",
        "import tensorflow as tf\n",
        "from tensorflow.keras.layers import Dense\n",
        "from tensorflow.keras.models import Sequential\n",
        "from sklearn.model_selection import train_test_split\n",
        "from sklearn.preprocessing import StandardScaler\n",
        "from sklearn.metrics import classification_report\n",
        "from pathlib import Path"
      ]
    },
    {
      "cell_type": "markdown",
      "metadata": {
        "id": "OpV4Y-3Z6q6w"
      },
      "source": [
        "---\n",
        "\n",
        "## Prepare the data to be used on a neural network model"
      ]
    },
    {
      "cell_type": "markdown",
      "metadata": {
        "id": "TUuSzp2l6q6w"
      },
      "source": [
        "### Step 1: Read the `student-loans.csv` file into a Pandas DataFrame. Review the DataFrame, looking for columns that could eventually define your features and target variables.   "
      ]
    },
    {
      "cell_type": "code",
      "execution_count": 45,
      "metadata": {
        "colab": {
          "base_uri": "https://localhost:8080/",
          "height": 226
        },
        "id": "G65km1KD6q6x",
        "outputId": "93d12d8d-c415-4017-8452-5b4966e4dde5"
      },
      "outputs": [
        {
          "data": {
            "text/html": [
              "<div>\n",
              "<style scoped>\n",
              "    .dataframe tbody tr th:only-of-type {\n",
              "        vertical-align: middle;\n",
              "    }\n",
              "\n",
              "    .dataframe tbody tr th {\n",
              "        vertical-align: top;\n",
              "    }\n",
              "\n",
              "    .dataframe thead th {\n",
              "        text-align: right;\n",
              "    }\n",
              "</style>\n",
              "<table border=\"1\" class=\"dataframe\">\n",
              "  <thead>\n",
              "    <tr style=\"text-align: right;\">\n",
              "      <th></th>\n",
              "      <th>payment_history</th>\n",
              "      <th>location_parameter</th>\n",
              "      <th>stem_degree_score</th>\n",
              "      <th>gpa_ranking</th>\n",
              "      <th>alumni_success</th>\n",
              "      <th>study_major_code</th>\n",
              "      <th>time_to_completion</th>\n",
              "      <th>finance_workshop_score</th>\n",
              "      <th>cohort_ranking</th>\n",
              "      <th>total_loan_score</th>\n",
              "      <th>financial_aid_score</th>\n",
              "      <th>credit_ranking</th>\n",
              "    </tr>\n",
              "  </thead>\n",
              "  <tbody>\n",
              "    <tr>\n",
              "      <th>0</th>\n",
              "      <td>7.4</td>\n",
              "      <td>0.70</td>\n",
              "      <td>0.00</td>\n",
              "      <td>1.9</td>\n",
              "      <td>0.076</td>\n",
              "      <td>11.0</td>\n",
              "      <td>34.0</td>\n",
              "      <td>0.9978</td>\n",
              "      <td>3.51</td>\n",
              "      <td>0.56</td>\n",
              "      <td>9.4</td>\n",
              "      <td>0</td>\n",
              "    </tr>\n",
              "    <tr>\n",
              "      <th>1</th>\n",
              "      <td>7.8</td>\n",
              "      <td>0.88</td>\n",
              "      <td>0.00</td>\n",
              "      <td>2.6</td>\n",
              "      <td>0.098</td>\n",
              "      <td>25.0</td>\n",
              "      <td>67.0</td>\n",
              "      <td>0.9968</td>\n",
              "      <td>3.20</td>\n",
              "      <td>0.68</td>\n",
              "      <td>9.8</td>\n",
              "      <td>0</td>\n",
              "    </tr>\n",
              "    <tr>\n",
              "      <th>2</th>\n",
              "      <td>7.8</td>\n",
              "      <td>0.76</td>\n",
              "      <td>0.04</td>\n",
              "      <td>2.3</td>\n",
              "      <td>0.092</td>\n",
              "      <td>15.0</td>\n",
              "      <td>54.0</td>\n",
              "      <td>0.9970</td>\n",
              "      <td>3.26</td>\n",
              "      <td>0.65</td>\n",
              "      <td>9.8</td>\n",
              "      <td>0</td>\n",
              "    </tr>\n",
              "    <tr>\n",
              "      <th>3</th>\n",
              "      <td>11.2</td>\n",
              "      <td>0.28</td>\n",
              "      <td>0.56</td>\n",
              "      <td>1.9</td>\n",
              "      <td>0.075</td>\n",
              "      <td>17.0</td>\n",
              "      <td>60.0</td>\n",
              "      <td>0.9980</td>\n",
              "      <td>3.16</td>\n",
              "      <td>0.58</td>\n",
              "      <td>9.8</td>\n",
              "      <td>1</td>\n",
              "    </tr>\n",
              "    <tr>\n",
              "      <th>4</th>\n",
              "      <td>7.4</td>\n",
              "      <td>0.70</td>\n",
              "      <td>0.00</td>\n",
              "      <td>1.9</td>\n",
              "      <td>0.076</td>\n",
              "      <td>11.0</td>\n",
              "      <td>34.0</td>\n",
              "      <td>0.9978</td>\n",
              "      <td>3.51</td>\n",
              "      <td>0.56</td>\n",
              "      <td>9.4</td>\n",
              "      <td>0</td>\n",
              "    </tr>\n",
              "  </tbody>\n",
              "</table>\n",
              "</div>"
            ],
            "text/plain": [
              "   payment_history  location_parameter  stem_degree_score  gpa_ranking  \\\n",
              "0              7.4                0.70               0.00          1.9   \n",
              "1              7.8                0.88               0.00          2.6   \n",
              "2              7.8                0.76               0.04          2.3   \n",
              "3             11.2                0.28               0.56          1.9   \n",
              "4              7.4                0.70               0.00          1.9   \n",
              "\n",
              "   alumni_success  study_major_code  time_to_completion  \\\n",
              "0           0.076              11.0                34.0   \n",
              "1           0.098              25.0                67.0   \n",
              "2           0.092              15.0                54.0   \n",
              "3           0.075              17.0                60.0   \n",
              "4           0.076              11.0                34.0   \n",
              "\n",
              "   finance_workshop_score  cohort_ranking  total_loan_score  \\\n",
              "0                  0.9978            3.51              0.56   \n",
              "1                  0.9968            3.20              0.68   \n",
              "2                  0.9970            3.26              0.65   \n",
              "3                  0.9980            3.16              0.58   \n",
              "4                  0.9978            3.51              0.56   \n",
              "\n",
              "   financial_aid_score  credit_ranking  \n",
              "0                  9.4               0  \n",
              "1                  9.8               0  \n",
              "2                  9.8               0  \n",
              "3                  9.8               1  \n",
              "4                  9.4               0  "
            ]
          },
          "execution_count": 45,
          "metadata": {},
          "output_type": "execute_result"
        }
      ],
      "source": [
        "# Read the csv into a Pandas DataFrame\n",
        "file_path = \"https://static.bc-edx.com/ai/ail-v-1-0/m18/lms/datasets/student-loans.csv\"\n",
        "loans_df = pd.read_csv(file_path)\n",
        "\n",
        "# Review the DataFrame\n",
        "loans_df.head()"
      ]
    },
    {
      "cell_type": "code",
      "execution_count": 46,
      "metadata": {
        "colab": {
          "base_uri": "https://localhost:8080/"
        },
        "id": "K8ZYB8wx6q6x",
        "outputId": "b509fc34-4488-406e-e451-2069fec37371"
      },
      "outputs": [
        {
          "data": {
            "text/plain": [
              "payment_history           float64\n",
              "location_parameter        float64\n",
              "stem_degree_score         float64\n",
              "gpa_ranking               float64\n",
              "alumni_success            float64\n",
              "study_major_code          float64\n",
              "time_to_completion        float64\n",
              "finance_workshop_score    float64\n",
              "cohort_ranking            float64\n",
              "total_loan_score          float64\n",
              "financial_aid_score       float64\n",
              "credit_ranking              int64\n",
              "dtype: object"
            ]
          },
          "execution_count": 46,
          "metadata": {},
          "output_type": "execute_result"
        }
      ],
      "source": [
        "# Review the data types associated with the columns\n",
        "loans_df.dtypes"
      ]
    },
    {
      "cell_type": "code",
      "execution_count": 47,
      "metadata": {
        "colab": {
          "base_uri": "https://localhost:8080/"
        },
        "id": "9P8aX-dW75JO",
        "outputId": "63251fa8-5ac1-4112-c2f7-bc5d97ea8491"
      },
      "outputs": [
        {
          "data": {
            "text/plain": [
              "credit_ranking\n",
              "1    855\n",
              "0    744\n",
              "Name: count, dtype: int64"
            ]
          },
          "execution_count": 47,
          "metadata": {},
          "output_type": "execute_result"
        }
      ],
      "source": [
        "# Check the credit_ranking value counts\n",
        "loans_df[\"credit_ranking\"].value_counts()"
      ]
    },
    {
      "cell_type": "markdown",
      "metadata": {
        "id": "R6vbZeDH6q6y"
      },
      "source": [
        "### Step 2: Using the preprocessed data, create the features (`X`) and target (`y`) datasets. The target dataset should be defined by the preprocessed DataFrame column “credit_ranking”. The remaining columns should define the features dataset."
      ]
    },
    {
      "cell_type": "code",
      "execution_count": 48,
      "metadata": {
        "colab": {
          "base_uri": "https://localhost:8080/"
        },
        "id": "Q5eVAP5M6q6y",
        "outputId": "89728bbf-6930-4573-a126-9f1b66ed8859"
      },
      "outputs": [
        {
          "data": {
            "text/plain": [
              "0    0\n",
              "1    0\n",
              "2    0\n",
              "3    1\n",
              "4    0\n",
              "Name: credit_ranking, dtype: int64"
            ]
          },
          "execution_count": 48,
          "metadata": {},
          "output_type": "execute_result"
        }
      ],
      "source": [
        "# Define the target set y using the credit_ranking column\n",
        "y = loans_df[\"credit_ranking\"]\n",
        "\n",
        "# Display a sample of y\n",
        "y[:5]\n"
      ]
    },
    {
      "cell_type": "code",
      "execution_count": 49,
      "metadata": {
        "colab": {
          "base_uri": "https://localhost:8080/",
          "height": 226
        },
        "id": "IIkrD2Sn6q6z",
        "outputId": "ce07c4a3-fb81-4657-d11e-ec85ae8554c9"
      },
      "outputs": [
        {
          "data": {
            "text/html": [
              "<div>\n",
              "<style scoped>\n",
              "    .dataframe tbody tr th:only-of-type {\n",
              "        vertical-align: middle;\n",
              "    }\n",
              "\n",
              "    .dataframe tbody tr th {\n",
              "        vertical-align: top;\n",
              "    }\n",
              "\n",
              "    .dataframe thead th {\n",
              "        text-align: right;\n",
              "    }\n",
              "</style>\n",
              "<table border=\"1\" class=\"dataframe\">\n",
              "  <thead>\n",
              "    <tr style=\"text-align: right;\">\n",
              "      <th></th>\n",
              "      <th>payment_history</th>\n",
              "      <th>location_parameter</th>\n",
              "      <th>stem_degree_score</th>\n",
              "      <th>gpa_ranking</th>\n",
              "      <th>alumni_success</th>\n",
              "      <th>study_major_code</th>\n",
              "      <th>time_to_completion</th>\n",
              "      <th>finance_workshop_score</th>\n",
              "      <th>cohort_ranking</th>\n",
              "      <th>total_loan_score</th>\n",
              "      <th>financial_aid_score</th>\n",
              "    </tr>\n",
              "  </thead>\n",
              "  <tbody>\n",
              "    <tr>\n",
              "      <th>0</th>\n",
              "      <td>7.4</td>\n",
              "      <td>0.70</td>\n",
              "      <td>0.00</td>\n",
              "      <td>1.9</td>\n",
              "      <td>0.076</td>\n",
              "      <td>11.0</td>\n",
              "      <td>34.0</td>\n",
              "      <td>0.9978</td>\n",
              "      <td>3.51</td>\n",
              "      <td>0.56</td>\n",
              "      <td>9.4</td>\n",
              "    </tr>\n",
              "    <tr>\n",
              "      <th>1</th>\n",
              "      <td>7.8</td>\n",
              "      <td>0.88</td>\n",
              "      <td>0.00</td>\n",
              "      <td>2.6</td>\n",
              "      <td>0.098</td>\n",
              "      <td>25.0</td>\n",
              "      <td>67.0</td>\n",
              "      <td>0.9968</td>\n",
              "      <td>3.20</td>\n",
              "      <td>0.68</td>\n",
              "      <td>9.8</td>\n",
              "    </tr>\n",
              "    <tr>\n",
              "      <th>2</th>\n",
              "      <td>7.8</td>\n",
              "      <td>0.76</td>\n",
              "      <td>0.04</td>\n",
              "      <td>2.3</td>\n",
              "      <td>0.092</td>\n",
              "      <td>15.0</td>\n",
              "      <td>54.0</td>\n",
              "      <td>0.9970</td>\n",
              "      <td>3.26</td>\n",
              "      <td>0.65</td>\n",
              "      <td>9.8</td>\n",
              "    </tr>\n",
              "    <tr>\n",
              "      <th>3</th>\n",
              "      <td>11.2</td>\n",
              "      <td>0.28</td>\n",
              "      <td>0.56</td>\n",
              "      <td>1.9</td>\n",
              "      <td>0.075</td>\n",
              "      <td>17.0</td>\n",
              "      <td>60.0</td>\n",
              "      <td>0.9980</td>\n",
              "      <td>3.16</td>\n",
              "      <td>0.58</td>\n",
              "      <td>9.8</td>\n",
              "    </tr>\n",
              "    <tr>\n",
              "      <th>4</th>\n",
              "      <td>7.4</td>\n",
              "      <td>0.70</td>\n",
              "      <td>0.00</td>\n",
              "      <td>1.9</td>\n",
              "      <td>0.076</td>\n",
              "      <td>11.0</td>\n",
              "      <td>34.0</td>\n",
              "      <td>0.9978</td>\n",
              "      <td>3.51</td>\n",
              "      <td>0.56</td>\n",
              "      <td>9.4</td>\n",
              "    </tr>\n",
              "  </tbody>\n",
              "</table>\n",
              "</div>"
            ],
            "text/plain": [
              "   payment_history  location_parameter  stem_degree_score  gpa_ranking  \\\n",
              "0              7.4                0.70               0.00          1.9   \n",
              "1              7.8                0.88               0.00          2.6   \n",
              "2              7.8                0.76               0.04          2.3   \n",
              "3             11.2                0.28               0.56          1.9   \n",
              "4              7.4                0.70               0.00          1.9   \n",
              "\n",
              "   alumni_success  study_major_code  time_to_completion  \\\n",
              "0           0.076              11.0                34.0   \n",
              "1           0.098              25.0                67.0   \n",
              "2           0.092              15.0                54.0   \n",
              "3           0.075              17.0                60.0   \n",
              "4           0.076              11.0                34.0   \n",
              "\n",
              "   finance_workshop_score  cohort_ranking  total_loan_score  \\\n",
              "0                  0.9978            3.51              0.56   \n",
              "1                  0.9968            3.20              0.68   \n",
              "2                  0.9970            3.26              0.65   \n",
              "3                  0.9980            3.16              0.58   \n",
              "4                  0.9978            3.51              0.56   \n",
              "\n",
              "   financial_aid_score  \n",
              "0                  9.4  \n",
              "1                  9.8  \n",
              "2                  9.8  \n",
              "3                  9.8  \n",
              "4                  9.4  "
            ]
          },
          "execution_count": 49,
          "metadata": {},
          "output_type": "execute_result"
        }
      ],
      "source": [
        "# Define features set X by selecting all columns but credit_ranking\n",
        "X = loans_df.drop(columns=\"credit_ranking\")\n",
        "\n",
        "# Review the features DataFrame\n",
        "X.head()\n"
      ]
    },
    {
      "cell_type": "markdown",
      "metadata": {
        "id": "QmM9c-tj6q6z"
      },
      "source": [
        "### Step 3: Split the features and target sets into training and testing datasets.\n"
      ]
    },
    {
      "cell_type": "code",
      "execution_count": 50,
      "metadata": {
        "id": "OD7xwU_96q6z"
      },
      "outputs": [],
      "source": [
        "# Split the preprocessed data into a training and testing dataset and Assign the function a random_state equal to 1\n",
        "X_train, X_test, y_train, y_test = train_test_split(X, y, random_state=1)"
      ]
    },
    {
      "cell_type": "markdown",
      "metadata": {
        "id": "G9i6DHY06q6z"
      },
      "source": [
        "### Step 4: Use scikit-learn's `StandardScaler` to scale the features data."
      ]
    },
    {
      "cell_type": "code",
      "execution_count": 51,
      "metadata": {
        "id": "BzD3z20m6q6z"
      },
      "outputs": [],
      "source": [
        "# Create a StandardScaler instance\n",
        "scaler = StandardScaler()\n",
        "\n",
        "# Fit the scaler to the features training dataset\n",
        "X_scaler = scaler.fit(X_train)\n",
        "\n",
        "# Fit the scaler to the features training dataset\n",
        "X_train_scaled = X_scaler.transform(X_train)"
      ]
    },
    {
      "cell_type": "markdown",
      "metadata": {
        "id": "CZzVDjba6q6z"
      },
      "source": [
        "---\n",
        "\n",
        "## Compile and Evaluate a Model Using a Neural Network"
      ]
    },
    {
      "cell_type": "markdown",
      "metadata": {
        "id": "m-pSux4Q6q60"
      },
      "source": [
        "### Step 1: Create a deep neural network by assigning the number of input features, the number of layers, and the number of neurons on each layer using Tensorflow’s Keras.\n",
        "\n",
        "> **Hint** You can start with a two-layer deep neural network model that uses the `relu` activation function for both layers.\n"
      ]
    },
    {
      "cell_type": "code",
      "execution_count": 52,
      "metadata": {
        "colab": {
          "base_uri": "https://localhost:8080/"
        },
        "id": "t5C94FCd6q60",
        "outputId": "cbf05783-2f56-4745-cd33-649a6152e510"
      },
      "outputs": [
        {
          "data": {
            "text/plain": [
              "11"
            ]
          },
          "execution_count": 52,
          "metadata": {},
          "output_type": "execute_result"
        }
      ],
      "source": [
        "# Define the the number of inputs (features) to the model\n",
        "number_input_features = len(X_train.iloc[0])\n",
        "\n",
        "# Review the number of features\n",
        "number_input_features\n"
      ]
    },
    {
      "cell_type": "code",
      "execution_count": 53,
      "metadata": {
        "id": "c_KXDLkF6q60"
      },
      "outputs": [],
      "source": [
        "# Define the number of hidden nodes for the first hidden layer\n",
        "hidden_nodes_layer1 =  8\n",
        "\n",
        "# Define the number of hidden nodes for the second hidden layer\n",
        "hidden_nodes_layer2 = 5\n",
        "\n",
        "# Define the number of hidden nodes for the second hidden layer\n",
        "hidden_nodes_layer3 = 3\n",
        "\n",
        "# Define the number of neurons in the output layer\n",
        "number_output_neurons = 1\n"
      ]
    },
    {
      "cell_type": "code",
      "execution_count": 54,
      "metadata": {
        "id": "63UdFncw6q60"
      },
      "outputs": [],
      "source": [
        "# Create the Sequential model instance\n",
        "nn = Sequential()\n",
        "\n",
        "# Add the first hidden layer\n",
        "nn.add(Dense(units=hidden_nodes_layer1, input_dim=number_input_features, activation=\"relu\"))\n",
        "\n",
        "# Add the second hidden layer\n",
        "nn.add(Dense(units=hidden_nodes_layer2, activation=\"relu\")) \n",
        "\n",
        "# Add the third hidden layer\n",
        "nn.add(Dense(units=hidden_nodes_layer3, activation=\"relu\")) \n",
        "\n",
        "# Add the output layer to the model specifying the number of output neurons and activation function\n",
        "nn.add(Dense(units=number_output_neurons, activation=\"sigmoid\"))"
      ]
    },
    {
      "cell_type": "code",
      "execution_count": 55,
      "metadata": {
        "colab": {
          "base_uri": "https://localhost:8080/"
        },
        "id": "-Beoh4f_6q61",
        "outputId": "2e50f810-086b-4d89-bf7d-98afbe0d649d"
      },
      "outputs": [
        {
          "name": "stdout",
          "output_type": "stream",
          "text": [
            "Model: \"sequential_1\"\n",
            "_________________________________________________________________\n",
            " Layer (type)                Output Shape              Param #   \n",
            "=================================================================\n",
            " dense_4 (Dense)             (None, 8)                 96        \n",
            "                                                                 \n",
            " dense_5 (Dense)             (None, 5)                 45        \n",
            "                                                                 \n",
            " dense_6 (Dense)             (None, 3)                 18        \n",
            "                                                                 \n",
            " dense_7 (Dense)             (None, 1)                 4         \n",
            "                                                                 \n",
            "=================================================================\n",
            "Total params: 163 (652.00 Byte)\n",
            "Trainable params: 163 (652.00 Byte)\n",
            "Non-trainable params: 0 (0.00 Byte)\n",
            "_________________________________________________________________\n"
          ]
        }
      ],
      "source": [
        "# Display the Sequential model summary\n",
        "nn.summary()"
      ]
    },
    {
      "cell_type": "markdown",
      "metadata": {
        "id": "nRqWGIRo6q61"
      },
      "source": [
        "### Step 2: Compile and fit the model using the `binary_crossentropy` loss function, the `adam` optimizer, and the `accuracy` evaluation metric.\n"
      ]
    },
    {
      "cell_type": "code",
      "execution_count": 56,
      "metadata": {
        "id": "E-hZaeSn6q61"
      },
      "outputs": [],
      "source": [
        "# Compile the Sequential model using the `binary_crossentropy` loss function, the `adam` optimizer, and the `accuracy` evaluation metric.\n",
        "nn.compile(loss=\"binary_crossentropy\", optimizer=\"adam\", metrics=[\"accuracy\"])"
      ]
    },
    {
      "cell_type": "code",
      "execution_count": 57,
      "metadata": {
        "colab": {
          "base_uri": "https://localhost:8080/"
        },
        "id": "x25e8Idc6q61",
        "outputId": "e95946ba-23da-47a3-a1c1-5e9a2a484a47"
      },
      "outputs": [
        {
          "name": "stdout",
          "output_type": "stream",
          "text": [
            "Epoch 1/150\n"
          ]
        },
        {
          "name": "stdout",
          "output_type": "stream",
          "text": [
            "38/38 [==============================] - 1s 2ms/step - loss: 0.7306 - accuracy: 0.4646\n",
            "Epoch 2/150\n",
            "38/38 [==============================] - 0s 2ms/step - loss: 0.6995 - accuracy: 0.4879\n",
            "Epoch 3/150\n",
            "38/38 [==============================] - 0s 1ms/step - loss: 0.6830 - accuracy: 0.5563\n",
            "Epoch 4/150\n",
            "38/38 [==============================] - 0s 2ms/step - loss: 0.6710 - accuracy: 0.6314\n",
            "Epoch 5/150\n",
            "38/38 [==============================] - 0s 2ms/step - loss: 0.6601 - accuracy: 0.6597\n",
            "Epoch 6/150\n",
            "38/38 [==============================] - 0s 2ms/step - loss: 0.6500 - accuracy: 0.6839\n",
            "Epoch 7/150\n",
            "38/38 [==============================] - 0s 2ms/step - loss: 0.6398 - accuracy: 0.7064\n",
            "Epoch 8/150\n",
            "38/38 [==============================] - 0s 2ms/step - loss: 0.6310 - accuracy: 0.7156\n",
            "Epoch 9/150\n",
            "38/38 [==============================] - 0s 2ms/step - loss: 0.6228 - accuracy: 0.7231\n",
            "Epoch 10/150\n",
            "38/38 [==============================] - 0s 3ms/step - loss: 0.6161 - accuracy: 0.7331\n",
            "Epoch 11/150\n",
            "38/38 [==============================] - 0s 2ms/step - loss: 0.6100 - accuracy: 0.7356\n",
            "Epoch 12/150\n",
            "38/38 [==============================] - 0s 4ms/step - loss: 0.6043 - accuracy: 0.7356\n",
            "Epoch 13/150\n",
            "38/38 [==============================] - 0s 1ms/step - loss: 0.5996 - accuracy: 0.7348\n",
            "Epoch 14/150\n",
            "38/38 [==============================] - 0s 1ms/step - loss: 0.5955 - accuracy: 0.7381\n",
            "Epoch 15/150\n",
            "38/38 [==============================] - 0s 2ms/step - loss: 0.5915 - accuracy: 0.7381\n",
            "Epoch 16/150\n",
            "38/38 [==============================] - 0s 1ms/step - loss: 0.5869 - accuracy: 0.7423\n",
            "Epoch 17/150\n",
            "38/38 [==============================] - 0s 1ms/step - loss: 0.5833 - accuracy: 0.7398\n",
            "Epoch 18/150\n",
            "38/38 [==============================] - 0s 1ms/step - loss: 0.5804 - accuracy: 0.7431\n",
            "Epoch 19/150\n",
            "38/38 [==============================] - 0s 2ms/step - loss: 0.5772 - accuracy: 0.7423\n",
            "Epoch 20/150\n",
            "38/38 [==============================] - 0s 1ms/step - loss: 0.5732 - accuracy: 0.7398\n",
            "Epoch 21/150\n",
            "38/38 [==============================] - 0s 1ms/step - loss: 0.5702 - accuracy: 0.7440\n",
            "Epoch 22/150\n",
            "38/38 [==============================] - 0s 1ms/step - loss: 0.5670 - accuracy: 0.7423\n",
            "Epoch 23/150\n",
            "38/38 [==============================] - 0s 2ms/step - loss: 0.5647 - accuracy: 0.7440\n",
            "Epoch 24/150\n",
            "38/38 [==============================] - 0s 2ms/step - loss: 0.5622 - accuracy: 0.7423\n",
            "Epoch 25/150\n",
            "38/38 [==============================] - 0s 2ms/step - loss: 0.5595 - accuracy: 0.7448\n",
            "Epoch 26/150\n",
            "38/38 [==============================] - 0s 2ms/step - loss: 0.5571 - accuracy: 0.7423\n",
            "Epoch 27/150\n",
            "38/38 [==============================] - 0s 2ms/step - loss: 0.5545 - accuracy: 0.7456\n",
            "Epoch 28/150\n",
            "38/38 [==============================] - 0s 2ms/step - loss: 0.5524 - accuracy: 0.7456\n",
            "Epoch 29/150\n",
            "38/38 [==============================] - 0s 2ms/step - loss: 0.5500 - accuracy: 0.7465\n",
            "Epoch 30/150\n",
            "38/38 [==============================] - 0s 1ms/step - loss: 0.5486 - accuracy: 0.7456\n",
            "Epoch 31/150\n",
            "38/38 [==============================] - 0s 2ms/step - loss: 0.5463 - accuracy: 0.7481\n",
            "Epoch 32/150\n",
            "38/38 [==============================] - 0s 2ms/step - loss: 0.5448 - accuracy: 0.7465\n",
            "Epoch 33/150\n",
            "38/38 [==============================] - 0s 2ms/step - loss: 0.5431 - accuracy: 0.7481\n",
            "Epoch 34/150\n",
            "38/38 [==============================] - 0s 2ms/step - loss: 0.5412 - accuracy: 0.7506\n",
            "Epoch 35/150\n",
            "38/38 [==============================] - 0s 2ms/step - loss: 0.5392 - accuracy: 0.7481\n",
            "Epoch 36/150\n",
            "38/38 [==============================] - 0s 2ms/step - loss: 0.5379 - accuracy: 0.7506\n",
            "Epoch 37/150\n",
            "38/38 [==============================] - 0s 2ms/step - loss: 0.5362 - accuracy: 0.7515\n",
            "Epoch 38/150\n",
            "38/38 [==============================] - 0s 1ms/step - loss: 0.5344 - accuracy: 0.7540\n",
            "Epoch 39/150\n",
            "38/38 [==============================] - 0s 2ms/step - loss: 0.5332 - accuracy: 0.7490\n",
            "Epoch 40/150\n",
            "38/38 [==============================] - 0s 4ms/step - loss: 0.5318 - accuracy: 0.7523\n",
            "Epoch 41/150\n",
            "38/38 [==============================] - 0s 1ms/step - loss: 0.5301 - accuracy: 0.7540\n",
            "Epoch 42/150\n",
            "38/38 [==============================] - 0s 2ms/step - loss: 0.5288 - accuracy: 0.7590\n",
            "Epoch 43/150\n",
            "38/38 [==============================] - 0s 1ms/step - loss: 0.5284 - accuracy: 0.7531\n",
            "Epoch 44/150\n",
            "38/38 [==============================] - 0s 1ms/step - loss: 0.5266 - accuracy: 0.7590\n",
            "Epoch 45/150\n",
            "38/38 [==============================] - 0s 1ms/step - loss: 0.5248 - accuracy: 0.7598\n",
            "Epoch 46/150\n",
            "38/38 [==============================] - 0s 2ms/step - loss: 0.5238 - accuracy: 0.7606\n",
            "Epoch 47/150\n",
            "38/38 [==============================] - 0s 2ms/step - loss: 0.5221 - accuracy: 0.7598\n",
            "Epoch 48/150\n",
            "38/38 [==============================] - 0s 2ms/step - loss: 0.5208 - accuracy: 0.7648\n",
            "Epoch 49/150\n",
            "38/38 [==============================] - 0s 2ms/step - loss: 0.5197 - accuracy: 0.7640\n",
            "Epoch 50/150\n",
            "38/38 [==============================] - 0s 1ms/step - loss: 0.5191 - accuracy: 0.7631\n",
            "Epoch 51/150\n",
            "38/38 [==============================] - 0s 1ms/step - loss: 0.5179 - accuracy: 0.7648\n",
            "Epoch 52/150\n",
            "38/38 [==============================] - 0s 1ms/step - loss: 0.5166 - accuracy: 0.7640\n",
            "Epoch 53/150\n",
            "38/38 [==============================] - 0s 1ms/step - loss: 0.5149 - accuracy: 0.7640\n",
            "Epoch 54/150\n",
            "38/38 [==============================] - 0s 1ms/step - loss: 0.5140 - accuracy: 0.7648\n",
            "Epoch 55/150\n",
            "38/38 [==============================] - 0s 2ms/step - loss: 0.5129 - accuracy: 0.7656\n",
            "Epoch 56/150\n",
            "38/38 [==============================] - 0s 1ms/step - loss: 0.5117 - accuracy: 0.7673\n",
            "Epoch 57/150\n",
            "38/38 [==============================] - 0s 1ms/step - loss: 0.5111 - accuracy: 0.7715\n",
            "Epoch 58/150\n",
            "38/38 [==============================] - 0s 2ms/step - loss: 0.5096 - accuracy: 0.7715\n",
            "Epoch 59/150\n",
            "38/38 [==============================] - 0s 2ms/step - loss: 0.5083 - accuracy: 0.7681\n",
            "Epoch 60/150\n",
            "38/38 [==============================] - 0s 2ms/step - loss: 0.5073 - accuracy: 0.7723\n",
            "Epoch 61/150\n",
            "38/38 [==============================] - 0s 4ms/step - loss: 0.5065 - accuracy: 0.7715\n",
            "Epoch 62/150\n",
            "38/38 [==============================] - 0s 1ms/step - loss: 0.5054 - accuracy: 0.7731\n",
            "Epoch 63/150\n",
            "38/38 [==============================] - 0s 1ms/step - loss: 0.5048 - accuracy: 0.7715\n",
            "Epoch 64/150\n",
            "38/38 [==============================] - 0s 1ms/step - loss: 0.5039 - accuracy: 0.7740\n",
            "Epoch 65/150\n",
            "38/38 [==============================] - 0s 1ms/step - loss: 0.5028 - accuracy: 0.7715\n",
            "Epoch 66/150\n",
            "38/38 [==============================] - 0s 2ms/step - loss: 0.5020 - accuracy: 0.7715\n",
            "Epoch 67/150\n",
            "38/38 [==============================] - 0s 1ms/step - loss: 0.5017 - accuracy: 0.7715\n",
            "Epoch 68/150\n",
            "38/38 [==============================] - 0s 1ms/step - loss: 0.5004 - accuracy: 0.7690\n",
            "Epoch 69/150\n",
            "38/38 [==============================] - 0s 2ms/step - loss: 0.4998 - accuracy: 0.7740\n",
            "Epoch 70/150\n",
            "38/38 [==============================] - 0s 2ms/step - loss: 0.4984 - accuracy: 0.7731\n",
            "Epoch 71/150\n",
            "38/38 [==============================] - 0s 2ms/step - loss: 0.4977 - accuracy: 0.7756\n",
            "Epoch 72/150\n",
            "38/38 [==============================] - 0s 1ms/step - loss: 0.4966 - accuracy: 0.7748\n",
            "Epoch 73/150\n",
            "38/38 [==============================] - 0s 2ms/step - loss: 0.4959 - accuracy: 0.7781\n",
            "Epoch 74/150\n",
            "38/38 [==============================] - 0s 1ms/step - loss: 0.4949 - accuracy: 0.7723\n",
            "Epoch 75/150\n",
            "38/38 [==============================] - 0s 1ms/step - loss: 0.4939 - accuracy: 0.7773\n",
            "Epoch 76/150\n",
            "38/38 [==============================] - 0s 1ms/step - loss: 0.4934 - accuracy: 0.7765\n",
            "Epoch 77/150\n",
            "38/38 [==============================] - 0s 2ms/step - loss: 0.4919 - accuracy: 0.7756\n",
            "Epoch 78/150\n",
            "38/38 [==============================] - 0s 2ms/step - loss: 0.4909 - accuracy: 0.7723\n",
            "Epoch 79/150\n",
            "38/38 [==============================] - 0s 3ms/step - loss: 0.4905 - accuracy: 0.7765\n",
            "Epoch 80/150\n",
            "38/38 [==============================] - 0s 1ms/step - loss: 0.4896 - accuracy: 0.7756\n",
            "Epoch 81/150\n",
            "38/38 [==============================] - 0s 1ms/step - loss: 0.4893 - accuracy: 0.7748\n",
            "Epoch 82/150\n",
            "38/38 [==============================] - 0s 1ms/step - loss: 0.4875 - accuracy: 0.7748\n",
            "Epoch 83/150\n",
            "38/38 [==============================] - 0s 1ms/step - loss: 0.4869 - accuracy: 0.7765\n",
            "Epoch 84/150\n",
            "38/38 [==============================] - 0s 1ms/step - loss: 0.4860 - accuracy: 0.7773\n",
            "Epoch 85/150\n",
            "38/38 [==============================] - 0s 1ms/step - loss: 0.4844 - accuracy: 0.7765\n",
            "Epoch 86/150\n",
            "38/38 [==============================] - 0s 2ms/step - loss: 0.4838 - accuracy: 0.7798\n",
            "Epoch 87/150\n",
            "38/38 [==============================] - 0s 2ms/step - loss: 0.4825 - accuracy: 0.7790\n",
            "Epoch 88/150\n",
            "38/38 [==============================] - 0s 1ms/step - loss: 0.4817 - accuracy: 0.7790\n",
            "Epoch 89/150\n",
            "38/38 [==============================] - 0s 2ms/step - loss: 0.4806 - accuracy: 0.7815\n",
            "Epoch 90/150\n",
            "38/38 [==============================] - 0s 1ms/step - loss: 0.4799 - accuracy: 0.7798\n",
            "Epoch 91/150\n",
            "38/38 [==============================] - 0s 2ms/step - loss: 0.4784 - accuracy: 0.7840\n",
            "Epoch 92/150\n",
            "38/38 [==============================] - 0s 2ms/step - loss: 0.4772 - accuracy: 0.7815\n",
            "Epoch 93/150\n",
            "38/38 [==============================] - 0s 2ms/step - loss: 0.4761 - accuracy: 0.7832\n",
            "Epoch 94/150\n",
            "38/38 [==============================] - 0s 2ms/step - loss: 0.4755 - accuracy: 0.7823\n",
            "Epoch 95/150\n",
            "38/38 [==============================] - 0s 2ms/step - loss: 0.4741 - accuracy: 0.7840\n",
            "Epoch 96/150\n",
            "38/38 [==============================] - 0s 2ms/step - loss: 0.4731 - accuracy: 0.7840\n",
            "Epoch 97/150\n",
            "38/38 [==============================] - 0s 3ms/step - loss: 0.4722 - accuracy: 0.7848\n",
            "Epoch 98/150\n",
            "38/38 [==============================] - 0s 1ms/step - loss: 0.4707 - accuracy: 0.7848\n",
            "Epoch 99/150\n",
            "38/38 [==============================] - 0s 1ms/step - loss: 0.4697 - accuracy: 0.7848\n",
            "Epoch 100/150\n",
            "38/38 [==============================] - 0s 1ms/step - loss: 0.4693 - accuracy: 0.7857\n",
            "Epoch 101/150\n",
            "38/38 [==============================] - 0s 1ms/step - loss: 0.4687 - accuracy: 0.7882\n",
            "Epoch 102/150\n",
            "38/38 [==============================] - 0s 1ms/step - loss: 0.4674 - accuracy: 0.7857\n",
            "Epoch 103/150\n",
            "38/38 [==============================] - 0s 1ms/step - loss: 0.4671 - accuracy: 0.7865\n",
            "Epoch 104/150\n",
            "38/38 [==============================] - 0s 2ms/step - loss: 0.4665 - accuracy: 0.7890\n",
            "Epoch 105/150\n",
            "38/38 [==============================] - 0s 1ms/step - loss: 0.4651 - accuracy: 0.7873\n",
            "Epoch 106/150\n",
            "38/38 [==============================] - 0s 2ms/step - loss: 0.4649 - accuracy: 0.7865\n",
            "Epoch 107/150\n",
            "38/38 [==============================] - 0s 1ms/step - loss: 0.4634 - accuracy: 0.7915\n",
            "Epoch 108/150\n",
            "38/38 [==============================] - 0s 2ms/step - loss: 0.4628 - accuracy: 0.7882\n",
            "Epoch 109/150\n",
            "38/38 [==============================] - 0s 2ms/step - loss: 0.4621 - accuracy: 0.7923\n",
            "Epoch 110/150\n",
            "38/38 [==============================] - 0s 1ms/step - loss: 0.4612 - accuracy: 0.7890\n",
            "Epoch 111/150\n",
            "38/38 [==============================] - 0s 2ms/step - loss: 0.4605 - accuracy: 0.7907\n",
            "Epoch 112/150\n",
            "38/38 [==============================] - 0s 1ms/step - loss: 0.4600 - accuracy: 0.7948\n",
            "Epoch 113/150\n",
            "38/38 [==============================] - 0s 1ms/step - loss: 0.4593 - accuracy: 0.7898\n",
            "Epoch 114/150\n",
            "38/38 [==============================] - 0s 1ms/step - loss: 0.4588 - accuracy: 0.7965\n",
            "Epoch 115/150\n",
            "38/38 [==============================] - 0s 1ms/step - loss: 0.4583 - accuracy: 0.7890\n",
            "Epoch 116/150\n",
            "38/38 [==============================] - 0s 2ms/step - loss: 0.4577 - accuracy: 0.7923\n",
            "Epoch 117/150\n",
            "38/38 [==============================] - 0s 2ms/step - loss: 0.4571 - accuracy: 0.7923\n",
            "Epoch 118/150\n",
            "38/38 [==============================] - 0s 1ms/step - loss: 0.4563 - accuracy: 0.7932\n",
            "Epoch 119/150\n",
            "38/38 [==============================] - 0s 2ms/step - loss: 0.4567 - accuracy: 0.7940\n",
            "Epoch 120/150\n",
            "38/38 [==============================] - 0s 1ms/step - loss: 0.4547 - accuracy: 0.7957\n",
            "Epoch 121/150\n",
            "38/38 [==============================] - 0s 2ms/step - loss: 0.4552 - accuracy: 0.7957\n",
            "Epoch 122/150\n",
            "38/38 [==============================] - 0s 1ms/step - loss: 0.4545 - accuracy: 0.7948\n",
            "Epoch 123/150\n",
            "38/38 [==============================] - 0s 1ms/step - loss: 0.4539 - accuracy: 0.7948\n",
            "Epoch 124/150\n",
            "38/38 [==============================] - 0s 2ms/step - loss: 0.4531 - accuracy: 0.7948\n",
            "Epoch 125/150\n",
            "38/38 [==============================] - 0s 3ms/step - loss: 0.4524 - accuracy: 0.7982\n",
            "Epoch 126/150\n",
            "38/38 [==============================] - 0s 1ms/step - loss: 0.4520 - accuracy: 0.7948\n",
            "Epoch 127/150\n",
            "38/38 [==============================] - 0s 2ms/step - loss: 0.4508 - accuracy: 0.7990\n",
            "Epoch 128/150\n",
            "38/38 [==============================] - 0s 2ms/step - loss: 0.4513 - accuracy: 0.7965\n",
            "Epoch 129/150\n",
            "38/38 [==============================] - 0s 1ms/step - loss: 0.4512 - accuracy: 0.8007\n",
            "Epoch 130/150\n",
            "38/38 [==============================] - 0s 1ms/step - loss: 0.4503 - accuracy: 0.7965\n",
            "Epoch 131/150\n",
            "38/38 [==============================] - 0s 1ms/step - loss: 0.4488 - accuracy: 0.7965\n",
            "Epoch 132/150\n",
            "38/38 [==============================] - 0s 1ms/step - loss: 0.4486 - accuracy: 0.7982\n",
            "Epoch 133/150\n",
            "38/38 [==============================] - 0s 1ms/step - loss: 0.4478 - accuracy: 0.7973\n",
            "Epoch 134/150\n",
            "38/38 [==============================] - 0s 1ms/step - loss: 0.4468 - accuracy: 0.7982\n",
            "Epoch 135/150\n",
            "38/38 [==============================] - 0s 3ms/step - loss: 0.4467 - accuracy: 0.8007\n",
            "Epoch 136/150\n",
            "38/38 [==============================] - 0s 1ms/step - loss: 0.4463 - accuracy: 0.8015\n",
            "Epoch 137/150\n",
            "38/38 [==============================] - 0s 1ms/step - loss: 0.4457 - accuracy: 0.7973\n",
            "Epoch 138/150\n",
            "38/38 [==============================] - 0s 1ms/step - loss: 0.4450 - accuracy: 0.8023\n",
            "Epoch 139/150\n",
            "38/38 [==============================] - 0s 2ms/step - loss: 0.4443 - accuracy: 0.8040\n",
            "Epoch 140/150\n",
            "38/38 [==============================] - 0s 1ms/step - loss: 0.4438 - accuracy: 0.8032\n",
            "Epoch 141/150\n",
            "38/38 [==============================] - 0s 2ms/step - loss: 0.4432 - accuracy: 0.8065\n",
            "Epoch 142/150\n",
            "38/38 [==============================] - 0s 1ms/step - loss: 0.4431 - accuracy: 0.8048\n",
            "Epoch 143/150\n",
            "38/38 [==============================] - 0s 1ms/step - loss: 0.4416 - accuracy: 0.8057\n",
            "Epoch 144/150\n",
            "38/38 [==============================] - 0s 2ms/step - loss: 0.4413 - accuracy: 0.8048\n",
            "Epoch 145/150\n",
            "38/38 [==============================] - 0s 1ms/step - loss: 0.4409 - accuracy: 0.8032\n",
            "Epoch 146/150\n",
            "38/38 [==============================] - 0s 1ms/step - loss: 0.4407 - accuracy: 0.8015\n",
            "Epoch 147/150\n",
            "38/38 [==============================] - 0s 2ms/step - loss: 0.4404 - accuracy: 0.8015\n",
            "Epoch 148/150\n",
            "38/38 [==============================] - 0s 2ms/step - loss: 0.4401 - accuracy: 0.8032\n",
            "Epoch 149/150\n",
            "38/38 [==============================] - 0s 2ms/step - loss: 0.4388 - accuracy: 0.8032\n",
            "Epoch 150/150\n",
            "38/38 [==============================] - 0s 1ms/step - loss: 0.4388 - accuracy: 0.8023\n"
          ]
        }
      ],
      "source": [
        "# Fit the model using 50 epochs and the training data\n",
        "model = nn.fit(X_train_scaled, y_train, epochs=150)"
      ]
    },
    {
      "cell_type": "markdown",
      "metadata": {
        "id": "RfHMPZVI6q61"
      },
      "source": [
        "### Step 3: Evaluate the model using the test data to determine the model’s loss and accuracy.\n"
      ]
    },
    {
      "cell_type": "code",
      "execution_count": 58,
      "metadata": {
        "colab": {
          "base_uri": "https://localhost:8080/"
        },
        "id": "5hfVADKo6q61",
        "outputId": "7df473ad-3301-4b49-e5c3-16e1687cc1cf"
      },
      "outputs": [
        {
          "name": "stdout",
          "output_type": "stream",
          "text": [
            "13/13 - 0s - loss: 22.5856 - accuracy: 0.5075 - 205ms/epoch - 16ms/step\n",
            "Loss: 22.585634231567383, Accuracy: 0.5074999928474426\n"
          ]
        }
      ],
      "source": [
        "# Evaluate the model loss and accuracy metrics using the evaluate method and the test data\n",
        "model_loss, model_accuracy = nn.evaluate(X_test, y_test, verbose=2)\n",
        "\n",
        "# Display the model loss and accuracy results\n",
        "print(f\"Loss: {model_loss}, Accuracy: {model_accuracy}\")"
      ]
    },
    {
      "cell_type": "markdown",
      "metadata": {
        "id": "jpAv0rXA6q61"
      },
      "source": [
        "### Step 4: Save and export your model to a keras file, and name the file `student_loans.keras`.\n"
      ]
    },
    {
      "cell_type": "code",
      "execution_count": 59,
      "metadata": {
        "id": "q0MetN0W6q61"
      },
      "outputs": [
        {
          "name": "stderr",
          "output_type": "stream",
          "text": [
            "c:\\Users\\skilu\\anaconda3\\envs\\dev\\Lib\\site-packages\\keras\\src\\engine\\training.py:3103: UserWarning: You are saving your model as an HDF5 file via `model.save()`. This file format is considered legacy. We recommend using instead the native Keras format, e.g. `model.save('my_model.keras')`.\n",
            "  saving_api.save_model(\n"
          ]
        }
      ],
      "source": [
        "# Set the model's file path\n",
        "file_path = Path(\"student_loan_model.h5\")\n",
        "\n",
        "# Export your model to a keras file\n",
        "nn.save(file_path)\n"
      ]
    },
    {
      "cell_type": "markdown",
      "metadata": {
        "id": "R1opCDdN6q61"
      },
      "source": [
        "---\n",
        "## Predict Loan Repayment Success by Using your Neural Network Model"
      ]
    },
    {
      "cell_type": "markdown",
      "metadata": {
        "id": "TfIfpeiy6q61"
      },
      "source": [
        "### Step 1: Reload your saved model."
      ]
    },
    {
      "cell_type": "code",
      "execution_count": 60,
      "metadata": {
        "id": "OCET2mvW6q61"
      },
      "outputs": [],
      "source": [
        "# Set the model's file path\n",
        "file_path = Path(\"student_loan_model.h5\")\n",
        "\n",
        "# Load the model to a new object\n",
        "nn_imported = tf.keras.models.load_model(file_path)"
      ]
    },
    {
      "cell_type": "markdown",
      "metadata": {
        "id": "rTPKooGw6q61"
      },
      "source": [
        "### Step 2: Make predictions on the testing data and save the predictions to a DataFrame."
      ]
    },
    {
      "cell_type": "code",
      "execution_count": 61,
      "metadata": {
        "colab": {
          "base_uri": "https://localhost:8080/"
        },
        "id": "Vet7qjgx6q62",
        "outputId": "0925af42-7e12-4978-8396-2a2c1580e1eb"
      },
      "outputs": [
        {
          "name": "stdout",
          "output_type": "stream",
          "text": [
            "13/13 [==============================] - 0s 2ms/step\n"
          ]
        },
        {
          "data": {
            "text/plain": [
              "array([[1.9072986e-21],\n",
              "       [3.9590154e-38],\n",
              "       [8.8345021e-01],\n",
              "       [9.6199244e-29],\n",
              "       [1.1151293e-05]], dtype=float32)"
            ]
          },
          "execution_count": 61,
          "metadata": {},
          "output_type": "execute_result"
        }
      ],
      "source": [
        "# Make predictions with the test data\n",
        "y_pred = nn_imported.predict(X_test)\n",
        "\n",
        "# Display a sample of the predictions\n",
        "y_pred[:5]"
      ]
    },
    {
      "cell_type": "code",
      "execution_count": 62,
      "metadata": {
        "colab": {
          "base_uri": "https://localhost:8080/",
          "height": 424
        },
        "id": "87o8exFPhjfl",
        "outputId": "da5339c5-cea7-43e4-ec22-e168ea16dfa2"
      },
      "outputs": [
        {
          "data": {
            "text/html": [
              "<div>\n",
              "<style scoped>\n",
              "    .dataframe tbody tr th:only-of-type {\n",
              "        vertical-align: middle;\n",
              "    }\n",
              "\n",
              "    .dataframe tbody tr th {\n",
              "        vertical-align: top;\n",
              "    }\n",
              "\n",
              "    .dataframe thead th {\n",
              "        text-align: right;\n",
              "    }\n",
              "</style>\n",
              "<table border=\"1\" class=\"dataframe\">\n",
              "  <thead>\n",
              "    <tr style=\"text-align: right;\">\n",
              "      <th></th>\n",
              "      <th>credit_ranking</th>\n",
              "      <th>predictions</th>\n",
              "    </tr>\n",
              "  </thead>\n",
              "  <tbody>\n",
              "    <tr>\n",
              "      <th>75</th>\n",
              "      <td>0</td>\n",
              "      <td>0</td>\n",
              "    </tr>\n",
              "    <tr>\n",
              "      <th>1283</th>\n",
              "      <td>1</td>\n",
              "      <td>0</td>\n",
              "    </tr>\n",
              "    <tr>\n",
              "      <th>408</th>\n",
              "      <td>1</td>\n",
              "      <td>1</td>\n",
              "    </tr>\n",
              "    <tr>\n",
              "      <th>1281</th>\n",
              "      <td>1</td>\n",
              "      <td>0</td>\n",
              "    </tr>\n",
              "    <tr>\n",
              "      <th>1118</th>\n",
              "      <td>1</td>\n",
              "      <td>0</td>\n",
              "    </tr>\n",
              "  </tbody>\n",
              "</table>\n",
              "</div>"
            ],
            "text/plain": [
              "      credit_ranking  predictions\n",
              "75                 0            0\n",
              "1283               1            0\n",
              "408                1            1\n",
              "1281               1            0\n",
              "1118               1            0"
            ]
          },
          "execution_count": 62,
          "metadata": {},
          "output_type": "execute_result"
        }
      ],
      "source": [
        "# Save the predictions to a DataFrame and round the predictions to binary results\n",
        "results = pd.DataFrame(y_test)\n",
        "results['predictions'] = y_pred\n",
        "results['predictions'] = results['predictions'].apply(lambda x: 1 if x >= 0.5 else 0)\n",
        "results.head()\n"
      ]
    },
    {
      "cell_type": "markdown",
      "metadata": {
        "id": "oxxLwycg6q62"
      },
      "source": [
        "### Step 4: Display a classification report with the y test data and predictions"
      ]
    },
    {
      "cell_type": "code",
      "execution_count": 64,
      "metadata": {
        "colab": {
          "base_uri": "https://localhost:8080/"
        },
        "id": "UTxYZibW6q67",
        "outputId": "f341b396-9b4c-478c-dba8-f6d904ba10e3"
      },
      "outputs": [
        {
          "name": "stdout",
          "output_type": "stream",
          "text": [
            "              precision    recall  f1-score   support\n",
            "\n",
            "           0       0.49      0.89      0.63       188\n",
            "           1       0.63      0.17      0.27       212\n",
            "\n",
            "    accuracy                           0.51       400\n",
            "   macro avg       0.56      0.53      0.45       400\n",
            "weighted avg       0.56      0.51      0.44       400\n",
            "\n"
          ]
        }
      ],
      "source": [
        "# Print the classification report with the y test data and predictions\n",
        "print(classification_report(results[\"credit_ranking\"], results[\"predictions\"]))"
      ]
    },
    {
      "cell_type": "markdown",
      "metadata": {
        "id": "8Aaof1tBtcp6"
      },
      "source": [
        "---\n",
        "## Discuss creating a recommendation system for student loans"
      ]
    },
    {
      "cell_type": "markdown",
      "metadata": {
        "id": "_CC8cNpNtcp6"
      },
      "source": [
        "Briefly answer the following questions in the space provided:\n",
        "\n",
        "1. Describe the data that you would need to collect to build a recommendation system to recommend student loan options for students. Explain why this data would be relevant and appropriate.\n",
        "\n",
        "2. Based on the data you chose to use in this recommendation system, would your model be using collaborative filtering, content-based filtering, or context-based filtering? Justify why the data you selected would be suitable for your choice of filtering method.\n",
        "\n",
        "3. Describe two real-world challenges that you would take into consideration while building a recommendation system for student loans. Explain why these challenges would be of concern for a student loan recommendation system."
      ]
    },
    {
      "cell_type": "markdown",
      "metadata": {
        "id": "5KqIT8kYtcp6"
      },
      "source": [
        "**1. Describe the data that you would need to collect to build a recommendation system to recommend student loan options for students. Explain why this data would be relevant and appropriate.**\n",
        "\n",
        "---> *Refer accompanied Readme.md*\n",
        "\n",
        "\n",
        "**2. Based on the data you chose to use in this recommendation system, would your model be using collaborative filtering, content-based filtering, or context-based filtering? Justify why the data you selected would be suitable for your choice of filtering method.**\n",
        "\n",
        "---> *Refer accompanied Readme.md*\n",
        "\n",
        "**3. Describe two real-world challenges that you would take into consideration while building a recommendation system for student loans. Explain why these challenges would be of concern for a student loan recommendation system.**\n",
        "\n",
        "---> *Refer accompanied Readme.md*"
      ]
    }
  ],
  "metadata": {
    "colab": {
      "provenance": []
    },
    "kernelspec": {
      "display_name": "Python 3 (ipykernel)",
      "language": "python",
      "name": "python3"
    },
    "language_info": {
      "codemirror_mode": {
        "name": "ipython",
        "version": 3
      },
      "file_extension": ".py",
      "mimetype": "text/x-python",
      "name": "python",
      "nbconvert_exporter": "python",
      "pygments_lexer": "ipython3",
      "version": "3.11.5"
    }
  },
  "nbformat": 4,
  "nbformat_minor": 0
}
