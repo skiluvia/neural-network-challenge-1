{
  "cells": [
    {
      "cell_type": "markdown",
      "metadata": {
        "id": "T7ZNhGcW6q6r"
      },
      "source": [
        "# Student Loan Risk with Deep Learning"
      ]
    },
    {
      "cell_type": "code",
      "execution_count": 1,
      "metadata": {
        "id": "0otrXpJc6q6u"
      },
      "outputs": [
        {
          "name": "stdout",
          "output_type": "stream",
          "text": [
            "WARNING:tensorflow:From c:\\Users\\skilu\\anaconda3\\envs\\dev\\Lib\\site-packages\\keras\\src\\losses.py:2976: The name tf.losses.sparse_softmax_cross_entropy is deprecated. Please use tf.compat.v1.losses.sparse_softmax_cross_entropy instead.\n",
            "\n"
          ]
        }
      ],
      "source": [
        "# Imports\n",
        "import pandas as pd\n",
        "import tensorflow as tf\n",
        "from tensorflow.keras.layers import Dense\n",
        "from tensorflow.keras.models import Sequential\n",
        "from sklearn.model_selection import train_test_split\n",
        "from sklearn.preprocessing import StandardScaler\n",
        "from sklearn.metrics import classification_report\n",
        "from pathlib import Path"
      ]
    },
    {
      "cell_type": "markdown",
      "metadata": {
        "id": "OpV4Y-3Z6q6w"
      },
      "source": [
        "---\n",
        "\n",
        "## Prepare the data to be used on a neural network model"
      ]
    },
    {
      "cell_type": "markdown",
      "metadata": {
        "id": "TUuSzp2l6q6w"
      },
      "source": [
        "### Step 1: Read the `student-loans.csv` file into a Pandas DataFrame. Review the DataFrame, looking for columns that could eventually define your features and target variables.   "
      ]
    },
    {
      "cell_type": "code",
      "execution_count": 2,
      "metadata": {
        "colab": {
          "base_uri": "https://localhost:8080/",
          "height": 226
        },
        "id": "G65km1KD6q6x",
        "outputId": "93d12d8d-c415-4017-8452-5b4966e4dde5"
      },
      "outputs": [
        {
          "data": {
            "text/html": [
              "<div>\n",
              "<style scoped>\n",
              "    .dataframe tbody tr th:only-of-type {\n",
              "        vertical-align: middle;\n",
              "    }\n",
              "\n",
              "    .dataframe tbody tr th {\n",
              "        vertical-align: top;\n",
              "    }\n",
              "\n",
              "    .dataframe thead th {\n",
              "        text-align: right;\n",
              "    }\n",
              "</style>\n",
              "<table border=\"1\" class=\"dataframe\">\n",
              "  <thead>\n",
              "    <tr style=\"text-align: right;\">\n",
              "      <th></th>\n",
              "      <th>payment_history</th>\n",
              "      <th>location_parameter</th>\n",
              "      <th>stem_degree_score</th>\n",
              "      <th>gpa_ranking</th>\n",
              "      <th>alumni_success</th>\n",
              "      <th>study_major_code</th>\n",
              "      <th>time_to_completion</th>\n",
              "      <th>finance_workshop_score</th>\n",
              "      <th>cohort_ranking</th>\n",
              "      <th>total_loan_score</th>\n",
              "      <th>financial_aid_score</th>\n",
              "      <th>credit_ranking</th>\n",
              "    </tr>\n",
              "  </thead>\n",
              "  <tbody>\n",
              "    <tr>\n",
              "      <th>0</th>\n",
              "      <td>7.4</td>\n",
              "      <td>0.70</td>\n",
              "      <td>0.00</td>\n",
              "      <td>1.9</td>\n",
              "      <td>0.076</td>\n",
              "      <td>11.0</td>\n",
              "      <td>34.0</td>\n",
              "      <td>0.9978</td>\n",
              "      <td>3.51</td>\n",
              "      <td>0.56</td>\n",
              "      <td>9.4</td>\n",
              "      <td>0</td>\n",
              "    </tr>\n",
              "    <tr>\n",
              "      <th>1</th>\n",
              "      <td>7.8</td>\n",
              "      <td>0.88</td>\n",
              "      <td>0.00</td>\n",
              "      <td>2.6</td>\n",
              "      <td>0.098</td>\n",
              "      <td>25.0</td>\n",
              "      <td>67.0</td>\n",
              "      <td>0.9968</td>\n",
              "      <td>3.20</td>\n",
              "      <td>0.68</td>\n",
              "      <td>9.8</td>\n",
              "      <td>0</td>\n",
              "    </tr>\n",
              "    <tr>\n",
              "      <th>2</th>\n",
              "      <td>7.8</td>\n",
              "      <td>0.76</td>\n",
              "      <td>0.04</td>\n",
              "      <td>2.3</td>\n",
              "      <td>0.092</td>\n",
              "      <td>15.0</td>\n",
              "      <td>54.0</td>\n",
              "      <td>0.9970</td>\n",
              "      <td>3.26</td>\n",
              "      <td>0.65</td>\n",
              "      <td>9.8</td>\n",
              "      <td>0</td>\n",
              "    </tr>\n",
              "    <tr>\n",
              "      <th>3</th>\n",
              "      <td>11.2</td>\n",
              "      <td>0.28</td>\n",
              "      <td>0.56</td>\n",
              "      <td>1.9</td>\n",
              "      <td>0.075</td>\n",
              "      <td>17.0</td>\n",
              "      <td>60.0</td>\n",
              "      <td>0.9980</td>\n",
              "      <td>3.16</td>\n",
              "      <td>0.58</td>\n",
              "      <td>9.8</td>\n",
              "      <td>1</td>\n",
              "    </tr>\n",
              "    <tr>\n",
              "      <th>4</th>\n",
              "      <td>7.4</td>\n",
              "      <td>0.70</td>\n",
              "      <td>0.00</td>\n",
              "      <td>1.9</td>\n",
              "      <td>0.076</td>\n",
              "      <td>11.0</td>\n",
              "      <td>34.0</td>\n",
              "      <td>0.9978</td>\n",
              "      <td>3.51</td>\n",
              "      <td>0.56</td>\n",
              "      <td>9.4</td>\n",
              "      <td>0</td>\n",
              "    </tr>\n",
              "  </tbody>\n",
              "</table>\n",
              "</div>"
            ],
            "text/plain": [
              "   payment_history  location_parameter  stem_degree_score  gpa_ranking  \\\n",
              "0              7.4                0.70               0.00          1.9   \n",
              "1              7.8                0.88               0.00          2.6   \n",
              "2              7.8                0.76               0.04          2.3   \n",
              "3             11.2                0.28               0.56          1.9   \n",
              "4              7.4                0.70               0.00          1.9   \n",
              "\n",
              "   alumni_success  study_major_code  time_to_completion  \\\n",
              "0           0.076              11.0                34.0   \n",
              "1           0.098              25.0                67.0   \n",
              "2           0.092              15.0                54.0   \n",
              "3           0.075              17.0                60.0   \n",
              "4           0.076              11.0                34.0   \n",
              "\n",
              "   finance_workshop_score  cohort_ranking  total_loan_score  \\\n",
              "0                  0.9978            3.51              0.56   \n",
              "1                  0.9968            3.20              0.68   \n",
              "2                  0.9970            3.26              0.65   \n",
              "3                  0.9980            3.16              0.58   \n",
              "4                  0.9978            3.51              0.56   \n",
              "\n",
              "   financial_aid_score  credit_ranking  \n",
              "0                  9.4               0  \n",
              "1                  9.8               0  \n",
              "2                  9.8               0  \n",
              "3                  9.8               1  \n",
              "4                  9.4               0  "
            ]
          },
          "execution_count": 2,
          "metadata": {},
          "output_type": "execute_result"
        }
      ],
      "source": [
        "# Read the csv into a Pandas DataFrame\n",
        "file_path = \"https://static.bc-edx.com/ai/ail-v-1-0/m18/lms/datasets/student-loans.csv\"\n",
        "loans_df = pd.read_csv(file_path)\n",
        "\n",
        "# Review the DataFrame\n",
        "loans_df.head()"
      ]
    },
    {
      "cell_type": "code",
      "execution_count": 3,
      "metadata": {
        "colab": {
          "base_uri": "https://localhost:8080/"
        },
        "id": "K8ZYB8wx6q6x",
        "outputId": "b509fc34-4488-406e-e451-2069fec37371"
      },
      "outputs": [
        {
          "data": {
            "text/plain": [
              "payment_history           float64\n",
              "location_parameter        float64\n",
              "stem_degree_score         float64\n",
              "gpa_ranking               float64\n",
              "alumni_success            float64\n",
              "study_major_code          float64\n",
              "time_to_completion        float64\n",
              "finance_workshop_score    float64\n",
              "cohort_ranking            float64\n",
              "total_loan_score          float64\n",
              "financial_aid_score       float64\n",
              "credit_ranking              int64\n",
              "dtype: object"
            ]
          },
          "execution_count": 3,
          "metadata": {},
          "output_type": "execute_result"
        }
      ],
      "source": [
        "# Review the data types associated with the columns\n",
        "loans_df.dtypes"
      ]
    },
    {
      "cell_type": "code",
      "execution_count": 4,
      "metadata": {
        "colab": {
          "base_uri": "https://localhost:8080/"
        },
        "id": "9P8aX-dW75JO",
        "outputId": "63251fa8-5ac1-4112-c2f7-bc5d97ea8491"
      },
      "outputs": [
        {
          "data": {
            "text/plain": [
              "credit_ranking\n",
              "1    855\n",
              "0    744\n",
              "Name: count, dtype: int64"
            ]
          },
          "execution_count": 4,
          "metadata": {},
          "output_type": "execute_result"
        }
      ],
      "source": [
        "# Check the credit_ranking value counts\n",
        "loans_df[\"credit_ranking\"].value_counts()"
      ]
    },
    {
      "cell_type": "markdown",
      "metadata": {
        "id": "R6vbZeDH6q6y"
      },
      "source": [
        "### Step 2: Using the preprocessed data, create the features (`X`) and target (`y`) datasets. The target dataset should be defined by the preprocessed DataFrame column “credit_ranking”. The remaining columns should define the features dataset."
      ]
    },
    {
      "cell_type": "code",
      "execution_count": 5,
      "metadata": {
        "colab": {
          "base_uri": "https://localhost:8080/"
        },
        "id": "Q5eVAP5M6q6y",
        "outputId": "89728bbf-6930-4573-a126-9f1b66ed8859"
      },
      "outputs": [
        {
          "data": {
            "text/plain": [
              "0    0\n",
              "1    0\n",
              "2    0\n",
              "3    1\n",
              "4    0\n",
              "Name: credit_ranking, dtype: int64"
            ]
          },
          "execution_count": 5,
          "metadata": {},
          "output_type": "execute_result"
        }
      ],
      "source": [
        "# Define the target set y using the credit_ranking column\n",
        "y = loans_df[\"credit_ranking\"]\n",
        "\n",
        "# Display a sample of y\n",
        "y[:5]\n"
      ]
    },
    {
      "cell_type": "code",
      "execution_count": 6,
      "metadata": {
        "colab": {
          "base_uri": "https://localhost:8080/",
          "height": 226
        },
        "id": "IIkrD2Sn6q6z",
        "outputId": "ce07c4a3-fb81-4657-d11e-ec85ae8554c9"
      },
      "outputs": [
        {
          "data": {
            "text/html": [
              "<div>\n",
              "<style scoped>\n",
              "    .dataframe tbody tr th:only-of-type {\n",
              "        vertical-align: middle;\n",
              "    }\n",
              "\n",
              "    .dataframe tbody tr th {\n",
              "        vertical-align: top;\n",
              "    }\n",
              "\n",
              "    .dataframe thead th {\n",
              "        text-align: right;\n",
              "    }\n",
              "</style>\n",
              "<table border=\"1\" class=\"dataframe\">\n",
              "  <thead>\n",
              "    <tr style=\"text-align: right;\">\n",
              "      <th></th>\n",
              "      <th>payment_history</th>\n",
              "      <th>location_parameter</th>\n",
              "      <th>stem_degree_score</th>\n",
              "      <th>gpa_ranking</th>\n",
              "      <th>alumni_success</th>\n",
              "      <th>study_major_code</th>\n",
              "      <th>time_to_completion</th>\n",
              "      <th>finance_workshop_score</th>\n",
              "      <th>cohort_ranking</th>\n",
              "      <th>total_loan_score</th>\n",
              "      <th>financial_aid_score</th>\n",
              "    </tr>\n",
              "  </thead>\n",
              "  <tbody>\n",
              "    <tr>\n",
              "      <th>0</th>\n",
              "      <td>7.4</td>\n",
              "      <td>0.70</td>\n",
              "      <td>0.00</td>\n",
              "      <td>1.9</td>\n",
              "      <td>0.076</td>\n",
              "      <td>11.0</td>\n",
              "      <td>34.0</td>\n",
              "      <td>0.9978</td>\n",
              "      <td>3.51</td>\n",
              "      <td>0.56</td>\n",
              "      <td>9.4</td>\n",
              "    </tr>\n",
              "    <tr>\n",
              "      <th>1</th>\n",
              "      <td>7.8</td>\n",
              "      <td>0.88</td>\n",
              "      <td>0.00</td>\n",
              "      <td>2.6</td>\n",
              "      <td>0.098</td>\n",
              "      <td>25.0</td>\n",
              "      <td>67.0</td>\n",
              "      <td>0.9968</td>\n",
              "      <td>3.20</td>\n",
              "      <td>0.68</td>\n",
              "      <td>9.8</td>\n",
              "    </tr>\n",
              "    <tr>\n",
              "      <th>2</th>\n",
              "      <td>7.8</td>\n",
              "      <td>0.76</td>\n",
              "      <td>0.04</td>\n",
              "      <td>2.3</td>\n",
              "      <td>0.092</td>\n",
              "      <td>15.0</td>\n",
              "      <td>54.0</td>\n",
              "      <td>0.9970</td>\n",
              "      <td>3.26</td>\n",
              "      <td>0.65</td>\n",
              "      <td>9.8</td>\n",
              "    </tr>\n",
              "    <tr>\n",
              "      <th>3</th>\n",
              "      <td>11.2</td>\n",
              "      <td>0.28</td>\n",
              "      <td>0.56</td>\n",
              "      <td>1.9</td>\n",
              "      <td>0.075</td>\n",
              "      <td>17.0</td>\n",
              "      <td>60.0</td>\n",
              "      <td>0.9980</td>\n",
              "      <td>3.16</td>\n",
              "      <td>0.58</td>\n",
              "      <td>9.8</td>\n",
              "    </tr>\n",
              "    <tr>\n",
              "      <th>4</th>\n",
              "      <td>7.4</td>\n",
              "      <td>0.70</td>\n",
              "      <td>0.00</td>\n",
              "      <td>1.9</td>\n",
              "      <td>0.076</td>\n",
              "      <td>11.0</td>\n",
              "      <td>34.0</td>\n",
              "      <td>0.9978</td>\n",
              "      <td>3.51</td>\n",
              "      <td>0.56</td>\n",
              "      <td>9.4</td>\n",
              "    </tr>\n",
              "  </tbody>\n",
              "</table>\n",
              "</div>"
            ],
            "text/plain": [
              "   payment_history  location_parameter  stem_degree_score  gpa_ranking  \\\n",
              "0              7.4                0.70               0.00          1.9   \n",
              "1              7.8                0.88               0.00          2.6   \n",
              "2              7.8                0.76               0.04          2.3   \n",
              "3             11.2                0.28               0.56          1.9   \n",
              "4              7.4                0.70               0.00          1.9   \n",
              "\n",
              "   alumni_success  study_major_code  time_to_completion  \\\n",
              "0           0.076              11.0                34.0   \n",
              "1           0.098              25.0                67.0   \n",
              "2           0.092              15.0                54.0   \n",
              "3           0.075              17.0                60.0   \n",
              "4           0.076              11.0                34.0   \n",
              "\n",
              "   finance_workshop_score  cohort_ranking  total_loan_score  \\\n",
              "0                  0.9978            3.51              0.56   \n",
              "1                  0.9968            3.20              0.68   \n",
              "2                  0.9970            3.26              0.65   \n",
              "3                  0.9980            3.16              0.58   \n",
              "4                  0.9978            3.51              0.56   \n",
              "\n",
              "   financial_aid_score  \n",
              "0                  9.4  \n",
              "1                  9.8  \n",
              "2                  9.8  \n",
              "3                  9.8  \n",
              "4                  9.4  "
            ]
          },
          "execution_count": 6,
          "metadata": {},
          "output_type": "execute_result"
        }
      ],
      "source": [
        "# Define features set X by selecting all columns but credit_ranking\n",
        "X = loans_df.drop(columns=\"credit_ranking\")\n",
        "\n",
        "# Review the features DataFrame\n",
        "X.head()\n"
      ]
    },
    {
      "cell_type": "markdown",
      "metadata": {
        "id": "QmM9c-tj6q6z"
      },
      "source": [
        "### Step 3: Split the features and target sets into training and testing datasets.\n"
      ]
    },
    {
      "cell_type": "code",
      "execution_count": 7,
      "metadata": {
        "id": "OD7xwU_96q6z"
      },
      "outputs": [],
      "source": [
        "# Split the preprocessed data into a training and testing dataset and Assign the function a random_state equal to 1\n",
        "X_train, X_test, y_train, y_test = train_test_split(X, y, random_state=1)"
      ]
    },
    {
      "cell_type": "markdown",
      "metadata": {
        "id": "G9i6DHY06q6z"
      },
      "source": [
        "### Step 4: Use scikit-learn's `StandardScaler` to scale the features data."
      ]
    },
    {
      "cell_type": "code",
      "execution_count": 8,
      "metadata": {
        "id": "BzD3z20m6q6z"
      },
      "outputs": [],
      "source": [
        "# Create a StandardScaler instance\n",
        "scaler = StandardScaler()\n",
        "\n",
        "# Fit the scaler to the features training dataset\n",
        "X_scaler = scaler.fit(X_train)\n",
        "\n",
        "# Fit the scaler to the features training dataset\n",
        "X_train_scaled = X_scaler.transform(X_train)"
      ]
    },
    {
      "cell_type": "markdown",
      "metadata": {
        "id": "CZzVDjba6q6z"
      },
      "source": [
        "---\n",
        "\n",
        "## Compile and Evaluate a Model Using a Neural Network"
      ]
    },
    {
      "cell_type": "markdown",
      "metadata": {
        "id": "m-pSux4Q6q60"
      },
      "source": [
        "### Step 1: Create a deep neural network by assigning the number of input features, the number of layers, and the number of neurons on each layer using Tensorflow’s Keras.\n",
        "\n",
        "> **Hint** You can start with a two-layer deep neural network model that uses the `relu` activation function for both layers.\n"
      ]
    },
    {
      "cell_type": "code",
      "execution_count": 9,
      "metadata": {
        "colab": {
          "base_uri": "https://localhost:8080/"
        },
        "id": "t5C94FCd6q60",
        "outputId": "cbf05783-2f56-4745-cd33-649a6152e510"
      },
      "outputs": [
        {
          "data": {
            "text/plain": [
              "11"
            ]
          },
          "execution_count": 9,
          "metadata": {},
          "output_type": "execute_result"
        }
      ],
      "source": [
        "# Define the the number of inputs (features) to the model\n",
        "number_input_features = len(X_train.iloc[0])\n",
        "\n",
        "# Review the number of features\n",
        "number_input_features\n"
      ]
    },
    {
      "cell_type": "code",
      "execution_count": 10,
      "metadata": {
        "id": "c_KXDLkF6q60"
      },
      "outputs": [],
      "source": [
        "# Define the number of hidden nodes for the first hidden layer\n",
        "hidden_nodes_layer1 =  8\n",
        "\n",
        "# Define the number of hidden nodes for the second hidden layer\n",
        "hidden_nodes_layer2 = 5\n",
        "\n",
        "# Define the number of hidden nodes for the second hidden layer\n",
        "hidden_nodes_layer3 = 3\n",
        "\n",
        "# Define the number of neurons in the output layer\n",
        "number_output_neurons = 1\n"
      ]
    },
    {
      "cell_type": "code",
      "execution_count": 12,
      "metadata": {
        "id": "63UdFncw6q60"
      },
      "outputs": [
        {
          "name": "stdout",
          "output_type": "stream",
          "text": [
            "WARNING:tensorflow:From c:\\Users\\skilu\\anaconda3\\envs\\dev\\Lib\\site-packages\\keras\\src\\backend.py:873: The name tf.get_default_graph is deprecated. Please use tf.compat.v1.get_default_graph instead.\n",
            "\n"
          ]
        }
      ],
      "source": [
        "# Create the Sequential model instance\n",
        "nn = Sequential()\n",
        "\n",
        "# Add the first hidden layer\n",
        "nn.add(Dense(units=hidden_nodes_layer1, input_dim=number_input_features, activation=\"relu\"))\n",
        "\n",
        "# Add the second hidden layer\n",
        "nn.add(Dense(units=hidden_nodes_layer2, activation=\"relu\")) \n",
        "\n",
        "# Add the third hidden layer\n",
        "nn.add(Dense(units=hidden_nodes_layer3, activation=\"relu\")) \n",
        "\n",
        "# Add the output layer to the model specifying the number of output neurons and activation function\n",
        "nn.add(Dense(units=number_output_neurons, activation=\"sigmoid\"))"
      ]
    },
    {
      "cell_type": "code",
      "execution_count": 13,
      "metadata": {
        "colab": {
          "base_uri": "https://localhost:8080/"
        },
        "id": "-Beoh4f_6q61",
        "outputId": "2e50f810-086b-4d89-bf7d-98afbe0d649d"
      },
      "outputs": [
        {
          "name": "stdout",
          "output_type": "stream",
          "text": [
            "Model: \"sequential\"\n",
            "_________________________________________________________________\n",
            " Layer (type)                Output Shape              Param #   \n",
            "=================================================================\n",
            " dense (Dense)               (None, 8)                 96        \n",
            "                                                                 \n",
            " dense_1 (Dense)             (None, 5)                 45        \n",
            "                                                                 \n",
            " dense_2 (Dense)             (None, 3)                 18        \n",
            "                                                                 \n",
            " dense_3 (Dense)             (None, 1)                 4         \n",
            "                                                                 \n",
            "=================================================================\n",
            "Total params: 163 (652.00 Byte)\n",
            "Trainable params: 163 (652.00 Byte)\n",
            "Non-trainable params: 0 (0.00 Byte)\n",
            "_________________________________________________________________\n"
          ]
        }
      ],
      "source": [
        "# Display the Sequential model summary\n",
        "nn.summary()"
      ]
    },
    {
      "cell_type": "markdown",
      "metadata": {
        "id": "nRqWGIRo6q61"
      },
      "source": [
        "### Step 2: Compile and fit the model using the `binary_crossentropy` loss function, the `adam` optimizer, and the `accuracy` evaluation metric.\n"
      ]
    },
    {
      "cell_type": "code",
      "execution_count": 14,
      "metadata": {
        "id": "E-hZaeSn6q61"
      },
      "outputs": [
        {
          "name": "stdout",
          "output_type": "stream",
          "text": [
            "WARNING:tensorflow:From c:\\Users\\skilu\\anaconda3\\envs\\dev\\Lib\\site-packages\\keras\\src\\optimizers\\__init__.py:309: The name tf.train.Optimizer is deprecated. Please use tf.compat.v1.train.Optimizer instead.\n",
            "\n"
          ]
        }
      ],
      "source": [
        "# Compile the Sequential model using the `binary_crossentropy` loss function, the `adam` optimizer, and the `accuracy` evaluation metric.\n",
        "nn.compile(loss=\"binary_crossentropy\", optimizer=\"adam\", metrics=[\"accuracy\"])"
      ]
    },
    {
      "cell_type": "code",
      "execution_count": 15,
      "metadata": {
        "colab": {
          "base_uri": "https://localhost:8080/"
        },
        "id": "x25e8Idc6q61",
        "outputId": "e95946ba-23da-47a3-a1c1-5e9a2a484a47"
      },
      "outputs": [
        {
          "name": "stdout",
          "output_type": "stream",
          "text": [
            "Epoch 1/150\n",
            "WARNING:tensorflow:From c:\\Users\\skilu\\anaconda3\\envs\\dev\\Lib\\site-packages\\keras\\src\\utils\\tf_utils.py:492: The name tf.ragged.RaggedTensorValue is deprecated. Please use tf.compat.v1.ragged.RaggedTensorValue instead.\n",
            "\n",
            "WARNING:tensorflow:From c:\\Users\\skilu\\anaconda3\\envs\\dev\\Lib\\site-packages\\keras\\src\\engine\\base_layer_utils.py:384: The name tf.executing_eagerly_outside_functions is deprecated. Please use tf.compat.v1.executing_eagerly_outside_functions instead.\n",
            "\n",
            "38/38 [==============================] - 2s 4ms/step - loss: 0.7494 - accuracy: 0.4287\n",
            "Epoch 2/150\n",
            "38/38 [==============================] - 0s 4ms/step - loss: 0.7080 - accuracy: 0.5088\n",
            "Epoch 3/150\n",
            "38/38 [==============================] - 0s 3ms/step - loss: 0.6907 - accuracy: 0.5738\n",
            "Epoch 4/150\n",
            "38/38 [==============================] - 0s 3ms/step - loss: 0.6792 - accuracy: 0.6088\n",
            "Epoch 5/150\n",
            "38/38 [==============================] - 0s 5ms/step - loss: 0.6695 - accuracy: 0.6230\n",
            "Epoch 6/150\n",
            "38/38 [==============================] - 0s 2ms/step - loss: 0.6584 - accuracy: 0.6497\n",
            "Epoch 7/150\n",
            "38/38 [==============================] - 0s 5ms/step - loss: 0.6429 - accuracy: 0.6731\n",
            "Epoch 8/150\n",
            "38/38 [==============================] - 0s 3ms/step - loss: 0.6235 - accuracy: 0.6897\n",
            "Epoch 9/150\n",
            "38/38 [==============================] - 0s 2ms/step - loss: 0.6014 - accuracy: 0.7139\n",
            "Epoch 10/150\n",
            "38/38 [==============================] - 0s 4ms/step - loss: 0.5775 - accuracy: 0.7223\n",
            "Epoch 11/150\n",
            "38/38 [==============================] - 0s 3ms/step - loss: 0.5594 - accuracy: 0.7264\n",
            "Epoch 12/150\n",
            "38/38 [==============================] - 0s 4ms/step - loss: 0.5470 - accuracy: 0.7248\n",
            "Epoch 13/150\n",
            "38/38 [==============================] - 0s 2ms/step - loss: 0.5387 - accuracy: 0.7289\n",
            "Epoch 14/150\n",
            "38/38 [==============================] - 0s 3ms/step - loss: 0.5334 - accuracy: 0.7281\n",
            "Epoch 15/150\n",
            "38/38 [==============================] - 0s 2ms/step - loss: 0.5304 - accuracy: 0.7314\n",
            "Epoch 16/150\n",
            "38/38 [==============================] - 0s 3ms/step - loss: 0.5261 - accuracy: 0.7348\n",
            "Epoch 17/150\n",
            "38/38 [==============================] - 0s 4ms/step - loss: 0.5234 - accuracy: 0.7364\n",
            "Epoch 18/150\n",
            "38/38 [==============================] - 0s 2ms/step - loss: 0.5209 - accuracy: 0.7398\n",
            "Epoch 19/150\n",
            "38/38 [==============================] - 0s 2ms/step - loss: 0.5187 - accuracy: 0.7406\n",
            "Epoch 20/150\n",
            "38/38 [==============================] - 0s 4ms/step - loss: 0.5173 - accuracy: 0.7398\n",
            "Epoch 21/150\n",
            "38/38 [==============================] - 0s 2ms/step - loss: 0.5157 - accuracy: 0.7431\n",
            "Epoch 22/150\n",
            "38/38 [==============================] - 0s 2ms/step - loss: 0.5143 - accuracy: 0.7440\n",
            "Epoch 23/150\n",
            "38/38 [==============================] - 0s 2ms/step - loss: 0.5131 - accuracy: 0.7465\n",
            "Epoch 24/150\n",
            "38/38 [==============================] - 0s 2ms/step - loss: 0.5122 - accuracy: 0.7515\n",
            "Epoch 25/150\n",
            "38/38 [==============================] - 0s 2ms/step - loss: 0.5112 - accuracy: 0.7556\n",
            "Epoch 26/150\n",
            "38/38 [==============================] - 0s 2ms/step - loss: 0.5100 - accuracy: 0.7506\n",
            "Epoch 27/150\n",
            "38/38 [==============================] - 0s 2ms/step - loss: 0.5085 - accuracy: 0.7523\n",
            "Epoch 28/150\n",
            "38/38 [==============================] - 0s 2ms/step - loss: 0.5076 - accuracy: 0.7531\n",
            "Epoch 29/150\n",
            "38/38 [==============================] - 0s 2ms/step - loss: 0.5062 - accuracy: 0.7531\n",
            "Epoch 30/150\n",
            "38/38 [==============================] - 0s 2ms/step - loss: 0.5050 - accuracy: 0.7556\n",
            "Epoch 31/150\n",
            "38/38 [==============================] - 0s 2ms/step - loss: 0.5036 - accuracy: 0.7590\n",
            "Epoch 32/150\n",
            "38/38 [==============================] - 0s 2ms/step - loss: 0.5018 - accuracy: 0.7615\n",
            "Epoch 33/150\n",
            "38/38 [==============================] - 0s 2ms/step - loss: 0.5001 - accuracy: 0.7581\n",
            "Epoch 34/150\n",
            "38/38 [==============================] - 0s 2ms/step - loss: 0.4994 - accuracy: 0.7606\n",
            "Epoch 35/150\n",
            "38/38 [==============================] - 0s 3ms/step - loss: 0.4985 - accuracy: 0.7648\n",
            "Epoch 36/150\n",
            "38/38 [==============================] - 0s 2ms/step - loss: 0.4975 - accuracy: 0.7623\n",
            "Epoch 37/150\n",
            "38/38 [==============================] - 0s 2ms/step - loss: 0.4964 - accuracy: 0.7656\n",
            "Epoch 38/150\n",
            "38/38 [==============================] - 0s 2ms/step - loss: 0.4950 - accuracy: 0.7648\n",
            "Epoch 39/150\n",
            "38/38 [==============================] - 0s 2ms/step - loss: 0.4944 - accuracy: 0.7640\n",
            "Epoch 40/150\n",
            "38/38 [==============================] - 0s 1ms/step - loss: 0.4934 - accuracy: 0.7656\n",
            "Epoch 41/150\n",
            "38/38 [==============================] - 0s 2ms/step - loss: 0.4933 - accuracy: 0.7623\n",
            "Epoch 42/150\n",
            "38/38 [==============================] - 0s 2ms/step - loss: 0.4917 - accuracy: 0.7648\n",
            "Epoch 43/150\n",
            "38/38 [==============================] - 0s 2ms/step - loss: 0.4912 - accuracy: 0.7681\n",
            "Epoch 44/150\n",
            "38/38 [==============================] - 0s 2ms/step - loss: 0.4908 - accuracy: 0.7673\n",
            "Epoch 45/150\n",
            "38/38 [==============================] - 0s 2ms/step - loss: 0.4895 - accuracy: 0.7656\n",
            "Epoch 46/150\n",
            "38/38 [==============================] - 0s 1ms/step - loss: 0.4889 - accuracy: 0.7656\n",
            "Epoch 47/150\n",
            "38/38 [==============================] - 0s 2ms/step - loss: 0.4887 - accuracy: 0.7698\n",
            "Epoch 48/150\n",
            "38/38 [==============================] - 0s 2ms/step - loss: 0.4878 - accuracy: 0.7656\n",
            "Epoch 49/150\n",
            "38/38 [==============================] - 0s 2ms/step - loss: 0.4873 - accuracy: 0.7665\n",
            "Epoch 50/150\n",
            "38/38 [==============================] - 0s 2ms/step - loss: 0.4863 - accuracy: 0.7698\n",
            "Epoch 51/150\n",
            "38/38 [==============================] - 0s 2ms/step - loss: 0.4852 - accuracy: 0.7665\n",
            "Epoch 52/150\n",
            "38/38 [==============================] - 0s 2ms/step - loss: 0.4841 - accuracy: 0.7640\n",
            "Epoch 53/150\n",
            "38/38 [==============================] - 0s 3ms/step - loss: 0.4838 - accuracy: 0.7681\n",
            "Epoch 54/150\n",
            "38/38 [==============================] - 0s 2ms/step - loss: 0.4828 - accuracy: 0.7715\n",
            "Epoch 55/150\n",
            "38/38 [==============================] - 0s 2ms/step - loss: 0.4830 - accuracy: 0.7690\n",
            "Epoch 56/150\n",
            "38/38 [==============================] - 0s 2ms/step - loss: 0.4813 - accuracy: 0.7706\n",
            "Epoch 57/150\n",
            "38/38 [==============================] - 0s 2ms/step - loss: 0.4812 - accuracy: 0.7715\n",
            "Epoch 58/150\n",
            "38/38 [==============================] - 0s 2ms/step - loss: 0.4810 - accuracy: 0.7698\n",
            "Epoch 59/150\n",
            "38/38 [==============================] - 0s 2ms/step - loss: 0.4810 - accuracy: 0.7740\n",
            "Epoch 60/150\n",
            "38/38 [==============================] - 0s 2ms/step - loss: 0.4798 - accuracy: 0.7698\n",
            "Epoch 61/150\n",
            "38/38 [==============================] - 0s 1ms/step - loss: 0.4791 - accuracy: 0.7706\n",
            "Epoch 62/150\n",
            "38/38 [==============================] - 0s 1ms/step - loss: 0.4788 - accuracy: 0.7723\n",
            "Epoch 63/150\n",
            "38/38 [==============================] - 0s 2ms/step - loss: 0.4791 - accuracy: 0.7715\n",
            "Epoch 64/150\n",
            "38/38 [==============================] - 0s 2ms/step - loss: 0.4777 - accuracy: 0.7715\n",
            "Epoch 65/150\n",
            "38/38 [==============================] - 0s 2ms/step - loss: 0.4768 - accuracy: 0.7723\n",
            "Epoch 66/150\n",
            "38/38 [==============================] - 0s 2ms/step - loss: 0.4769 - accuracy: 0.7756\n",
            "Epoch 67/150\n",
            "38/38 [==============================] - 0s 2ms/step - loss: 0.4761 - accuracy: 0.7773\n",
            "Epoch 68/150\n",
            "38/38 [==============================] - 0s 2ms/step - loss: 0.4757 - accuracy: 0.7781\n",
            "Epoch 69/150\n",
            "38/38 [==============================] - 0s 4ms/step - loss: 0.4753 - accuracy: 0.7773\n",
            "Epoch 70/150\n",
            "38/38 [==============================] - 0s 3ms/step - loss: 0.4752 - accuracy: 0.7765\n",
            "Epoch 71/150\n",
            "38/38 [==============================] - 0s 2ms/step - loss: 0.4743 - accuracy: 0.7773\n",
            "Epoch 72/150\n",
            "38/38 [==============================] - 0s 2ms/step - loss: 0.4739 - accuracy: 0.7798\n",
            "Epoch 73/150\n",
            "38/38 [==============================] - 0s 2ms/step - loss: 0.4731 - accuracy: 0.7823\n",
            "Epoch 74/150\n",
            "38/38 [==============================] - 0s 2ms/step - loss: 0.4732 - accuracy: 0.7765\n",
            "Epoch 75/150\n",
            "38/38 [==============================] - 0s 3ms/step - loss: 0.4727 - accuracy: 0.7798\n",
            "Epoch 76/150\n",
            "38/38 [==============================] - 0s 2ms/step - loss: 0.4716 - accuracy: 0.7807\n",
            "Epoch 77/150\n",
            "38/38 [==============================] - 0s 2ms/step - loss: 0.4722 - accuracy: 0.7857\n",
            "Epoch 78/150\n",
            "38/38 [==============================] - 0s 2ms/step - loss: 0.4707 - accuracy: 0.7840\n",
            "Epoch 79/150\n",
            "38/38 [==============================] - 0s 2ms/step - loss: 0.4711 - accuracy: 0.7832\n",
            "Epoch 80/150\n",
            "38/38 [==============================] - 0s 2ms/step - loss: 0.4701 - accuracy: 0.7840\n",
            "Epoch 81/150\n",
            "38/38 [==============================] - 0s 2ms/step - loss: 0.4697 - accuracy: 0.7823\n",
            "Epoch 82/150\n",
            "38/38 [==============================] - 0s 2ms/step - loss: 0.4691 - accuracy: 0.7823\n",
            "Epoch 83/150\n",
            "38/38 [==============================] - 0s 2ms/step - loss: 0.4687 - accuracy: 0.7832\n",
            "Epoch 84/150\n",
            "38/38 [==============================] - 0s 2ms/step - loss: 0.4691 - accuracy: 0.7823\n",
            "Epoch 85/150\n",
            "38/38 [==============================] - 0s 3ms/step - loss: 0.4681 - accuracy: 0.7832\n",
            "Epoch 86/150\n",
            "38/38 [==============================] - 0s 2ms/step - loss: 0.4675 - accuracy: 0.7865\n",
            "Epoch 87/150\n",
            "38/38 [==============================] - 0s 2ms/step - loss: 0.4668 - accuracy: 0.7832\n",
            "Epoch 88/150\n",
            "38/38 [==============================] - 0s 2ms/step - loss: 0.4670 - accuracy: 0.7848\n",
            "Epoch 89/150\n",
            "38/38 [==============================] - 0s 2ms/step - loss: 0.4657 - accuracy: 0.7882\n",
            "Epoch 90/150\n",
            "38/38 [==============================] - 0s 3ms/step - loss: 0.4654 - accuracy: 0.7848\n",
            "Epoch 91/150\n",
            "38/38 [==============================] - 0s 2ms/step - loss: 0.4650 - accuracy: 0.7882\n",
            "Epoch 92/150\n",
            "38/38 [==============================] - 0s 2ms/step - loss: 0.4649 - accuracy: 0.7873\n",
            "Epoch 93/150\n",
            "38/38 [==============================] - 0s 2ms/step - loss: 0.4643 - accuracy: 0.7832\n",
            "Epoch 94/150\n",
            "38/38 [==============================] - 0s 2ms/step - loss: 0.4644 - accuracy: 0.7857\n",
            "Epoch 95/150\n",
            "38/38 [==============================] - 0s 2ms/step - loss: 0.4645 - accuracy: 0.7857\n",
            "Epoch 96/150\n",
            "38/38 [==============================] - 0s 2ms/step - loss: 0.4635 - accuracy: 0.7873\n",
            "Epoch 97/150\n",
            "38/38 [==============================] - 0s 2ms/step - loss: 0.4643 - accuracy: 0.7840\n",
            "Epoch 98/150\n",
            "38/38 [==============================] - 0s 2ms/step - loss: 0.4633 - accuracy: 0.7848\n",
            "Epoch 99/150\n",
            "38/38 [==============================] - 0s 4ms/step - loss: 0.4617 - accuracy: 0.7848\n",
            "Epoch 100/150\n",
            "38/38 [==============================] - 0s 5ms/step - loss: 0.4627 - accuracy: 0.7882\n",
            "Epoch 101/150\n",
            "38/38 [==============================] - 0s 3ms/step - loss: 0.4615 - accuracy: 0.7840\n",
            "Epoch 102/150\n",
            "38/38 [==============================] - 0s 4ms/step - loss: 0.4611 - accuracy: 0.7873\n",
            "Epoch 103/150\n",
            "38/38 [==============================] - 0s 2ms/step - loss: 0.4625 - accuracy: 0.7832\n",
            "Epoch 104/150\n",
            "38/38 [==============================] - 0s 3ms/step - loss: 0.4616 - accuracy: 0.7907\n",
            "Epoch 105/150\n",
            "38/38 [==============================] - 0s 2ms/step - loss: 0.4613 - accuracy: 0.7857\n",
            "Epoch 106/150\n",
            "38/38 [==============================] - 0s 3ms/step - loss: 0.4600 - accuracy: 0.7865\n",
            "Epoch 107/150\n",
            "38/38 [==============================] - 0s 2ms/step - loss: 0.4597 - accuracy: 0.7840\n",
            "Epoch 108/150\n",
            "38/38 [==============================] - 0s 3ms/step - loss: 0.4593 - accuracy: 0.7873\n",
            "Epoch 109/150\n",
            "38/38 [==============================] - 0s 3ms/step - loss: 0.4585 - accuracy: 0.7873\n",
            "Epoch 110/150\n",
            "38/38 [==============================] - 0s 2ms/step - loss: 0.4607 - accuracy: 0.7907\n",
            "Epoch 111/150\n",
            "38/38 [==============================] - 0s 2ms/step - loss: 0.4589 - accuracy: 0.7898\n",
            "Epoch 112/150\n",
            "38/38 [==============================] - 0s 2ms/step - loss: 0.4582 - accuracy: 0.7890\n",
            "Epoch 113/150\n",
            "38/38 [==============================] - 0s 3ms/step - loss: 0.4579 - accuracy: 0.7890\n",
            "Epoch 114/150\n",
            "38/38 [==============================] - 0s 6ms/step - loss: 0.4584 - accuracy: 0.7857\n",
            "Epoch 115/150\n",
            "38/38 [==============================] - 0s 4ms/step - loss: 0.4575 - accuracy: 0.7898\n",
            "Epoch 116/150\n",
            "38/38 [==============================] - 0s 5ms/step - loss: 0.4575 - accuracy: 0.7898\n",
            "Epoch 117/150\n",
            "38/38 [==============================] - 0s 3ms/step - loss: 0.4572 - accuracy: 0.7882\n",
            "Epoch 118/150\n",
            "38/38 [==============================] - 0s 3ms/step - loss: 0.4564 - accuracy: 0.7898\n",
            "Epoch 119/150\n",
            "38/38 [==============================] - 0s 2ms/step - loss: 0.4563 - accuracy: 0.7882\n",
            "Epoch 120/150\n",
            "38/38 [==============================] - 0s 2ms/step - loss: 0.4564 - accuracy: 0.7898\n",
            "Epoch 121/150\n",
            "38/38 [==============================] - 0s 3ms/step - loss: 0.4567 - accuracy: 0.7898\n",
            "Epoch 122/150\n",
            "38/38 [==============================] - 0s 3ms/step - loss: 0.4566 - accuracy: 0.7915\n",
            "Epoch 123/150\n",
            "38/38 [==============================] - 0s 2ms/step - loss: 0.4555 - accuracy: 0.7890\n",
            "Epoch 124/150\n",
            "38/38 [==============================] - 0s 3ms/step - loss: 0.4553 - accuracy: 0.7915\n",
            "Epoch 125/150\n",
            "38/38 [==============================] - 0s 3ms/step - loss: 0.4551 - accuracy: 0.7873\n",
            "Epoch 126/150\n",
            "38/38 [==============================] - 0s 2ms/step - loss: 0.4545 - accuracy: 0.7915\n",
            "Epoch 127/150\n",
            "38/38 [==============================] - 0s 2ms/step - loss: 0.4543 - accuracy: 0.7923\n",
            "Epoch 128/150\n",
            "38/38 [==============================] - 0s 2ms/step - loss: 0.4542 - accuracy: 0.7898\n",
            "Epoch 129/150\n",
            "38/38 [==============================] - 0s 2ms/step - loss: 0.4539 - accuracy: 0.7923\n",
            "Epoch 130/150\n",
            "38/38 [==============================] - 0s 2ms/step - loss: 0.4544 - accuracy: 0.7907\n",
            "Epoch 131/150\n",
            "38/38 [==============================] - 0s 3ms/step - loss: 0.4535 - accuracy: 0.7923\n",
            "Epoch 132/150\n",
            "38/38 [==============================] - 0s 3ms/step - loss: 0.4541 - accuracy: 0.7907\n",
            "Epoch 133/150\n",
            "38/38 [==============================] - 0s 2ms/step - loss: 0.4529 - accuracy: 0.7940\n",
            "Epoch 134/150\n",
            "38/38 [==============================] - 0s 3ms/step - loss: 0.4524 - accuracy: 0.7923\n",
            "Epoch 135/150\n",
            "38/38 [==============================] - 0s 2ms/step - loss: 0.4526 - accuracy: 0.7932\n",
            "Epoch 136/150\n",
            "38/38 [==============================] - 0s 3ms/step - loss: 0.4521 - accuracy: 0.7915\n",
            "Epoch 137/150\n",
            "38/38 [==============================] - 0s 3ms/step - loss: 0.4522 - accuracy: 0.7932\n",
            "Epoch 138/150\n",
            "38/38 [==============================] - 0s 2ms/step - loss: 0.4514 - accuracy: 0.7940\n",
            "Epoch 139/150\n",
            "38/38 [==============================] - 0s 2ms/step - loss: 0.4514 - accuracy: 0.7948\n",
            "Epoch 140/150\n",
            "38/38 [==============================] - 0s 4ms/step - loss: 0.4518 - accuracy: 0.7932\n",
            "Epoch 141/150\n",
            "38/38 [==============================] - 0s 2ms/step - loss: 0.4514 - accuracy: 0.7957\n",
            "Epoch 142/150\n",
            "38/38 [==============================] - 0s 3ms/step - loss: 0.4510 - accuracy: 0.7957\n",
            "Epoch 143/150\n",
            "38/38 [==============================] - 0s 3ms/step - loss: 0.4509 - accuracy: 0.7965\n",
            "Epoch 144/150\n",
            "38/38 [==============================] - 0s 2ms/step - loss: 0.4502 - accuracy: 0.7973\n",
            "Epoch 145/150\n",
            "38/38 [==============================] - 0s 3ms/step - loss: 0.4496 - accuracy: 0.7973\n",
            "Epoch 146/150\n",
            "38/38 [==============================] - 0s 2ms/step - loss: 0.4503 - accuracy: 0.7990\n",
            "Epoch 147/150\n",
            "38/38 [==============================] - 0s 2ms/step - loss: 0.4495 - accuracy: 0.7957\n",
            "Epoch 148/150\n",
            "38/38 [==============================] - 0s 2ms/step - loss: 0.4502 - accuracy: 0.7973\n",
            "Epoch 149/150\n",
            "38/38 [==============================] - 0s 3ms/step - loss: 0.4498 - accuracy: 0.7998\n",
            "Epoch 150/150\n",
            "38/38 [==============================] - 0s 2ms/step - loss: 0.4497 - accuracy: 0.7948\n"
          ]
        }
      ],
      "source": [
        "# Fit the model using 50 epochs and the training data\n",
        "model = nn.fit(X_train_scaled, y_train, epochs=150)"
      ]
    },
    {
      "cell_type": "markdown",
      "metadata": {
        "id": "RfHMPZVI6q61"
      },
      "source": [
        "### Step 3: Evaluate the model using the test data to determine the model’s loss and accuracy.\n"
      ]
    },
    {
      "cell_type": "code",
      "execution_count": 16,
      "metadata": {},
      "outputs": [
        {
          "data": {
            "text/plain": [
              "array([[ 0.26985713, -0.67852173,  1.87373569, ...,  1.43159743,\n",
              "         0.01130905,  0.05358797],\n",
              "       [ 0.21400374,  0.54947458,  0.05955639, ..., -0.34793415,\n",
              "        -0.16632694, -0.22597102],\n",
              "       [ 1.16351141, -1.06924782,  1.57137247, ..., -0.79281704,\n",
              "         0.24815703,  0.7990786 ],\n",
              "       ...,\n",
              "       [-0.62379715, -0.95761179,  0.96664604, ...,  0.54183164,\n",
              "         1.13633698,  0.51951962],\n",
              "       [-1.51745143,  0.46574755, -1.35147195, ...,  1.68581622,\n",
              "        -0.81765891, -0.50553001],\n",
              "       [ 1.94545891, -1.12506584,  1.11782765, ..., -0.09371535,\n",
              "         0.60342901,  0.23996063]])"
            ]
          },
          "execution_count": 16,
          "metadata": {},
          "output_type": "execute_result"
        }
      ],
      "source": [
        "# Scale test data first because we are using a scaled model\n",
        "X_test_scaled = X_scaler.transform(X_test)\n",
        "X_test_scaled"
      ]
    },
    {
      "cell_type": "code",
      "execution_count": 32,
      "metadata": {
        "colab": {
          "base_uri": "https://localhost:8080/"
        },
        "id": "5hfVADKo6q61",
        "outputId": "7df473ad-3301-4b49-e5c3-16e1687cc1cf"
      },
      "outputs": [
        {
          "name": "stdout",
          "output_type": "stream",
          "text": [
            "13/13 - 0s - loss: 0.5271 - accuracy: 0.7450 - 50ms/epoch - 4ms/step\n",
            "Loss: 0.5270754098892212, Accuracy: 0.7450000047683716\n"
          ]
        }
      ],
      "source": [
        "# Evaluate the model loss and accuracy metrics using the evaluate method and the test data\n",
        "model_loss, model_accuracy = nn.evaluate(X_test_scaled, y_test, verbose=2)\n",
        "\n",
        "# Display the model loss and accuracy results\n",
        "print(f\"Loss: {model_loss}, Accuracy: {model_accuracy}\")"
      ]
    },
    {
      "cell_type": "markdown",
      "metadata": {
        "id": "jpAv0rXA6q61"
      },
      "source": [
        "### Step 4: Save and export your model to a keras file, and name the file `student_loans.keras`.\n"
      ]
    },
    {
      "cell_type": "code",
      "execution_count": 19,
      "metadata": {
        "id": "q0MetN0W6q61"
      },
      "outputs": [
        {
          "name": "stderr",
          "output_type": "stream",
          "text": [
            "c:\\Users\\skilu\\anaconda3\\envs\\dev\\Lib\\site-packages\\keras\\src\\engine\\training.py:3103: UserWarning: You are saving your model as an HDF5 file via `model.save()`. This file format is considered legacy. We recommend using instead the native Keras format, e.g. `model.save('my_model.keras')`.\n",
            "  saving_api.save_model(\n"
          ]
        }
      ],
      "source": [
        "# Set the model's file path\n",
        "file_path = Path(\"student_loan_model.h5\")\n",
        "\n",
        "# Export your model to a keras file\n",
        "nn.save(file_path)\n"
      ]
    },
    {
      "cell_type": "markdown",
      "metadata": {
        "id": "R1opCDdN6q61"
      },
      "source": [
        "---\n",
        "## Predict Loan Repayment Success by Using your Neural Network Model"
      ]
    },
    {
      "cell_type": "markdown",
      "metadata": {
        "id": "TfIfpeiy6q61"
      },
      "source": [
        "### Step 1: Reload your saved model."
      ]
    },
    {
      "cell_type": "code",
      "execution_count": 20,
      "metadata": {
        "id": "OCET2mvW6q61"
      },
      "outputs": [],
      "source": [
        "# Set the model's file path\n",
        "file_path = Path(\"student_loan_model.h5\")\n",
        "\n",
        "# Load the model to a new object\n",
        "nn_imported = tf.keras.models.load_model(file_path)"
      ]
    },
    {
      "cell_type": "markdown",
      "metadata": {
        "id": "rTPKooGw6q61"
      },
      "source": [
        "### Step 2: Make predictions on the testing data and save the predictions to a DataFrame."
      ]
    },
    {
      "cell_type": "code",
      "execution_count": 30,
      "metadata": {
        "colab": {
          "base_uri": "https://localhost:8080/"
        },
        "id": "Vet7qjgx6q62",
        "outputId": "0925af42-7e12-4978-8396-2a2c1580e1eb"
      },
      "outputs": [
        {
          "name": "stdout",
          "output_type": "stream",
          "text": [
            "13/13 [==============================] - 0s 2ms/step\n"
          ]
        },
        {
          "data": {
            "text/plain": [
              "array([[0.24800438],\n",
              "       [0.35333285],\n",
              "       [0.9581993 ],\n",
              "       [0.67839766],\n",
              "       [0.9891706 ]], dtype=float32)"
            ]
          },
          "execution_count": 30,
          "metadata": {},
          "output_type": "execute_result"
        }
      ],
      "source": [
        "# Make predictions with the test data\n",
        "y_pred = nn_imported.predict(X_test_scaled)\n",
        "\n",
        "# Display a sample of the predictions\n",
        "y_pred[:5]"
      ]
    },
    {
      "cell_type": "code",
      "execution_count": 35,
      "metadata": {
        "colab": {
          "base_uri": "https://localhost:8080/",
          "height": 424
        },
        "id": "87o8exFPhjfl",
        "outputId": "da5339c5-cea7-43e4-ec22-e168ea16dfa2"
      },
      "outputs": [
        {
          "data": {
            "text/html": [
              "<div>\n",
              "<style scoped>\n",
              "    .dataframe tbody tr th:only-of-type {\n",
              "        vertical-align: middle;\n",
              "    }\n",
              "\n",
              "    .dataframe tbody tr th {\n",
              "        vertical-align: top;\n",
              "    }\n",
              "\n",
              "    .dataframe thead th {\n",
              "        text-align: right;\n",
              "    }\n",
              "</style>\n",
              "<table border=\"1\" class=\"dataframe\">\n",
              "  <thead>\n",
              "    <tr style=\"text-align: right;\">\n",
              "      <th></th>\n",
              "      <th>credit_ranking</th>\n",
              "      <th>predictions</th>\n",
              "    </tr>\n",
              "  </thead>\n",
              "  <tbody>\n",
              "    <tr>\n",
              "      <th>75</th>\n",
              "      <td>0</td>\n",
              "      <td>0</td>\n",
              "    </tr>\n",
              "    <tr>\n",
              "      <th>1283</th>\n",
              "      <td>1</td>\n",
              "      <td>0</td>\n",
              "    </tr>\n",
              "    <tr>\n",
              "      <th>408</th>\n",
              "      <td>1</td>\n",
              "      <td>1</td>\n",
              "    </tr>\n",
              "    <tr>\n",
              "      <th>1281</th>\n",
              "      <td>1</td>\n",
              "      <td>1</td>\n",
              "    </tr>\n",
              "    <tr>\n",
              "      <th>1118</th>\n",
              "      <td>1</td>\n",
              "      <td>1</td>\n",
              "    </tr>\n",
              "  </tbody>\n",
              "</table>\n",
              "</div>"
            ],
            "text/plain": [
              "      credit_ranking  predictions\n",
              "75                 0            0\n",
              "1283               1            0\n",
              "408                1            1\n",
              "1281               1            1\n",
              "1118               1            1"
            ]
          },
          "execution_count": 35,
          "metadata": {},
          "output_type": "execute_result"
        }
      ],
      "source": [
        "# Save the predictions to a DataFrame and round the predictions to binary results\n",
        "results = pd.DataFrame(y_test)\n",
        "results['predictions'] = y_pred\n",
        "results['predictions'] = results['predictions'].apply(lambda x: 1 if x >= 0.5 else 0)\n",
        "results.head()\n"
      ]
    },
    {
      "cell_type": "markdown",
      "metadata": {
        "id": "oxxLwycg6q62"
      },
      "source": [
        "### Step 4: Display a classification report with the y test data and predictions"
      ]
    },
    {
      "cell_type": "code",
      "execution_count": 34,
      "metadata": {
        "colab": {
          "base_uri": "https://localhost:8080/"
        },
        "id": "UTxYZibW6q67",
        "outputId": "f341b396-9b4c-478c-dba8-f6d904ba10e3"
      },
      "outputs": [
        {
          "name": "stdout",
          "output_type": "stream",
          "text": [
            "              precision    recall  f1-score   support\n",
            "\n",
            "           0       0.71      0.78      0.74       188\n",
            "           1       0.78      0.72      0.75       212\n",
            "\n",
            "    accuracy                           0.74       400\n",
            "   macro avg       0.75      0.75      0.74       400\n",
            "weighted avg       0.75      0.74      0.75       400\n",
            "\n"
          ]
        }
      ],
      "source": [
        "# Print the classification report with the y test data and predictions\n",
        "print(classification_report(results[\"credit_ranking\"], results[\"predictions\"]))"
      ]
    },
    {
      "cell_type": "markdown",
      "metadata": {
        "id": "8Aaof1tBtcp6"
      },
      "source": [
        "---\n",
        "## Discuss creating a recommendation system for student loans"
      ]
    },
    {
      "cell_type": "markdown",
      "metadata": {
        "id": "_CC8cNpNtcp6"
      },
      "source": [
        "Briefly answer the following questions in the space provided:\n",
        "\n",
        "1. Describe the data that you would need to collect to build a recommendation system to recommend student loan options for students. Explain why this data would be relevant and appropriate.\n",
        "\n",
        "2. Based on the data you chose to use in this recommendation system, would your model be using collaborative filtering, content-based filtering, or context-based filtering? Justify why the data you selected would be suitable for your choice of filtering method.\n",
        "\n",
        "3. Describe two real-world challenges that you would take into consideration while building a recommendation system for student loans. Explain why these challenges would be of concern for a student loan recommendation system."
      ]
    },
    {
      "cell_type": "markdown",
      "metadata": {
        "id": "5KqIT8kYtcp6"
      },
      "source": [
        "**1. Describe the data that you would need to collect to build a recommendation system to recommend student loan options for students. Explain why this data would be relevant and appropriate.**\n",
        "\n",
        "---> *Refer accompanied Readme.md*\n",
        "\n",
        "\n",
        "**2. Based on the data you chose to use in this recommendation system, would your model be using collaborative filtering, content-based filtering, or context-based filtering? Justify why the data you selected would be suitable for your choice of filtering method.**\n",
        "\n",
        "---> *Refer accompanied Readme.md*\n",
        "\n",
        "**3. Describe two real-world challenges that you would take into consideration while building a recommendation system for student loans. Explain why these challenges would be of concern for a student loan recommendation system.**\n",
        "\n",
        "---> *Refer accompanied Readme.md*"
      ]
    }
  ],
  "metadata": {
    "colab": {
      "provenance": []
    },
    "kernelspec": {
      "display_name": "Python 3 (ipykernel)",
      "language": "python",
      "name": "python3"
    },
    "language_info": {
      "codemirror_mode": {
        "name": "ipython",
        "version": 3
      },
      "file_extension": ".py",
      "mimetype": "text/x-python",
      "name": "python",
      "nbconvert_exporter": "python",
      "pygments_lexer": "ipython3",
      "version": "3.11.5"
    }
  },
  "nbformat": 4,
  "nbformat_minor": 0
}
